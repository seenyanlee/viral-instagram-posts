{
 "cells": [
  {
   "cell_type": "code",
   "execution_count": 1,
   "id": "b44e527c",
   "metadata": {},
   "outputs": [],
   "source": [
    "# for data cleaning and analysis\n",
    "import numpy as np\n",
    "import pandas as pd\n",
    "import matplotlib.pyplot as plt\n",
    "import seaborn as sns\n",
    "from zipfile import ZipFile\n",
    "\n",
    "# for modelling\n",
    "from sklearn.decomposition import PCA\n",
    "from sklearn.linear_model import ElasticNet, ElasticNetCV, LinearRegression\n",
    "from sklearn.metrics import mean_squared_error\n",
    "from sklearn.model_selection import GridSearchCV, train_test_split\n",
    "from sklearn.pipeline import Pipeline\n",
    "from sklearn.preprocessing import OneHotEncoder, StandardScaler\n",
    "from statsmodels.formula.api import ols\n",
    "\n",
    "import warnings\n",
    "warnings.filterwarnings('ignore')"
   ]
  },
  {
   "cell_type": "code",
   "execution_count": 2,
   "id": "cb86ee00",
   "metadata": {},
   "outputs": [],
   "source": [
    "# unzip the data zip file\n",
    "ZIP_PATH = 'predict-viral-instagram-posts-advanced.zip' # zip file's path\n",
    "with ZipFile(ZIP_PATH, 'r') as zipObj:\n",
    "   zipObj.extractall()"
   ]
  },
  {
   "cell_type": "code",
   "execution_count": 2,
   "id": "437b2b0e",
   "metadata": {},
   "outputs": [],
   "source": [
    "# read in files\n",
    "df_metadata = pd.read_csv('metadata.csv')\n",
    "df_train = pd.read_csv('train_advance.csv')\n",
    "df_test = pd.read_csv('test_advance.csv')"
   ]
  },
  {
   "cell_type": "code",
   "execution_count": 5,
   "id": "d09369d3",
   "metadata": {
    "collapsed": true
   },
   "outputs": [
    {
     "data": {
      "text/html": [
       "<div>\n",
       "<style scoped>\n",
       "    .dataframe tbody tr th:only-of-type {\n",
       "        vertical-align: middle;\n",
       "    }\n",
       "\n",
       "    .dataframe tbody tr th {\n",
       "        vertical-align: top;\n",
       "    }\n",
       "\n",
       "    .dataframe thead th {\n",
       "        text-align: right;\n",
       "    }\n",
       "</style>\n",
       "<table border=\"1\" class=\"dataframe\">\n",
       "  <thead>\n",
       "    <tr style=\"text-align: right;\">\n",
       "      <th></th>\n",
       "      <th>Field</th>\n",
       "      <th>Description</th>\n",
       "    </tr>\n",
       "  </thead>\n",
       "  <tbody>\n",
       "    <tr>\n",
       "      <th>0</th>\n",
       "      <td>SID</td>\n",
       "      <td>Sequence ID</td>\n",
       "    </tr>\n",
       "    <tr>\n",
       "      <th>1</th>\n",
       "      <td>ID</td>\n",
       "      <td>Instagrams ID for that could be used on the we...</td>\n",
       "    </tr>\n",
       "    <tr>\n",
       "      <th>2</th>\n",
       "      <td>Name</td>\n",
       "      <td>Locations Name</td>\n",
       "    </tr>\n",
       "    <tr>\n",
       "      <th>3</th>\n",
       "      <td>Streen</td>\n",
       "      <td>Streed Address, may contain '\\n'</td>\n",
       "    </tr>\n",
       "    <tr>\n",
       "      <th>4</th>\n",
       "      <td>ZIP</td>\n",
       "      <td>Zip code</td>\n",
       "    </tr>\n",
       "    <tr>\n",
       "      <th>5</th>\n",
       "      <td>City</td>\n",
       "      <td>City Name</td>\n",
       "    </tr>\n",
       "    <tr>\n",
       "      <th>6</th>\n",
       "      <td>Region</td>\n",
       "      <td>Region</td>\n",
       "    </tr>\n",
       "    <tr>\n",
       "      <th>7</th>\n",
       "      <td>CD</td>\n",
       "      <td>Country Code</td>\n",
       "    </tr>\n",
       "    <tr>\n",
       "      <th>8</th>\n",
       "      <td>Phone</td>\n",
       "      <td>The phone in format as on the Instragram</td>\n",
       "    </tr>\n",
       "    <tr>\n",
       "      <th>9</th>\n",
       "      <td>aj_exact_city_match</td>\n",
       "      <td>The Instagrams Internal key</td>\n",
       "    </tr>\n",
       "    <tr>\n",
       "      <th>10</th>\n",
       "      <td>aj_exact_country_match</td>\n",
       "      <td>The Instagrams Internal key</td>\n",
       "    </tr>\n",
       "    <tr>\n",
       "      <th>11</th>\n",
       "      <td>blurb</td>\n",
       "      <td>Description of the place, may contain '\\n'</td>\n",
       "    </tr>\n",
       "    <tr>\n",
       "      <th>12</th>\n",
       "      <td>dir_city_id</td>\n",
       "      <td>The Instagrams internal City ID</td>\n",
       "    </tr>\n",
       "    <tr>\n",
       "      <th>13</th>\n",
       "      <td>dir_city_name</td>\n",
       "      <td>city Name</td>\n",
       "    </tr>\n",
       "    <tr>\n",
       "      <th>14</th>\n",
       "      <td>dir_city_slug</td>\n",
       "      <td>City tag (sortof)</td>\n",
       "    </tr>\n",
       "    <tr>\n",
       "      <th>15</th>\n",
       "      <td>dir_country_id</td>\n",
       "      <td>Country ID</td>\n",
       "    </tr>\n",
       "    <tr>\n",
       "      <th>16</th>\n",
       "      <td>dir_country_name</td>\n",
       "      <td>country</td>\n",
       "    </tr>\n",
       "    <tr>\n",
       "      <th>17</th>\n",
       "      <td>lat</td>\n",
       "      <td>Latitude</td>\n",
       "    </tr>\n",
       "    <tr>\n",
       "      <th>18</th>\n",
       "      <td>lng</td>\n",
       "      <td>Longtitude</td>\n",
       "    </tr>\n",
       "    <tr>\n",
       "      <th>19</th>\n",
       "      <td>primary_alias_on_fb</td>\n",
       "      <td>Bool Flag</td>\n",
       "    </tr>\n",
       "    <tr>\n",
       "      <th>20</th>\n",
       "      <td>slug</td>\n",
       "      <td>NaN</td>\n",
       "    </tr>\n",
       "    <tr>\n",
       "      <th>21</th>\n",
       "      <td>website</td>\n",
       "      <td>The URL to web site, may contain more then 1 U...</td>\n",
       "    </tr>\n",
       "    <tr>\n",
       "      <th>22</th>\n",
       "      <td>cts</td>\n",
       "      <td>Timestamp when the location was visited</td>\n",
       "    </tr>\n",
       "    <tr>\n",
       "      <th>23</th>\n",
       "      <td>NaN</td>\n",
       "      <td>NaN</td>\n",
       "    </tr>\n",
       "    <tr>\n",
       "      <th>24</th>\n",
       "      <td>Profiles</td>\n",
       "      <td>NaN</td>\n",
       "    </tr>\n",
       "    <tr>\n",
       "      <th>25</th>\n",
       "      <td>NaN</td>\n",
       "      <td>NaN</td>\n",
       "    </tr>\n",
       "    <tr>\n",
       "      <th>26</th>\n",
       "      <td>Field</td>\n",
       "      <td>Description</td>\n",
       "    </tr>\n",
       "    <tr>\n",
       "      <th>27</th>\n",
       "      <td>SID</td>\n",
       "      <td>Sequence ID</td>\n",
       "    </tr>\n",
       "    <tr>\n",
       "      <th>28</th>\n",
       "      <td>profile_id</td>\n",
       "      <td>Instagrams ID</td>\n",
       "    </tr>\n",
       "    <tr>\n",
       "      <th>29</th>\n",
       "      <td>profile_name</td>\n",
       "      <td>profile name</td>\n",
       "    </tr>\n",
       "    <tr>\n",
       "      <th>30</th>\n",
       "      <td>firstname_lastname</td>\n",
       "      <td>firstname lastname</td>\n",
       "    </tr>\n",
       "    <tr>\n",
       "      <th>31</th>\n",
       "      <td>description</td>\n",
       "      <td>May contain '\\n'</td>\n",
       "    </tr>\n",
       "    <tr>\n",
       "      <th>32</th>\n",
       "      <td>following</td>\n",
       "      <td>Number of following profile at the moment it w...</td>\n",
       "    </tr>\n",
       "    <tr>\n",
       "      <th>33</th>\n",
       "      <td>Followers</td>\n",
       "      <td>Number of followers at the moment it was visited</td>\n",
       "    </tr>\n",
       "    <tr>\n",
       "      <th>34</th>\n",
       "      <td>n_posts</td>\n",
       "      <td>Number of posts at the moment it was visited</td>\n",
       "    </tr>\n",
       "    <tr>\n",
       "      <th>35</th>\n",
       "      <td>URL</td>\n",
       "      <td>Url</td>\n",
       "    </tr>\n",
       "    <tr>\n",
       "      <th>36</th>\n",
       "      <td>cts</td>\n",
       "      <td>Timestamp when the profile was visited</td>\n",
       "    </tr>\n",
       "    <tr>\n",
       "      <th>37</th>\n",
       "      <td>is_business_account</td>\n",
       "      <td>Boolean flag if that profile was makred by the...</td>\n",
       "    </tr>\n",
       "    <tr>\n",
       "      <th>38</th>\n",
       "      <td>NaN</td>\n",
       "      <td>NaN</td>\n",
       "    </tr>\n",
       "    <tr>\n",
       "      <th>39</th>\n",
       "      <td>Posts</td>\n",
       "      <td>NaN</td>\n",
       "    </tr>\n",
       "    <tr>\n",
       "      <th>40</th>\n",
       "      <td>NaN</td>\n",
       "      <td>NaN</td>\n",
       "    </tr>\n",
       "    <tr>\n",
       "      <th>41</th>\n",
       "      <td>Field</td>\n",
       "      <td>Description</td>\n",
       "    </tr>\n",
       "    <tr>\n",
       "      <th>42</th>\n",
       "      <td>SID</td>\n",
       "      <td>Sequence ID</td>\n",
       "    </tr>\n",
       "    <tr>\n",
       "      <th>43</th>\n",
       "      <td>sid_profile</td>\n",
       "      <td>Sequence ID of the profile from ## Profiles tabke</td>\n",
       "    </tr>\n",
       "    <tr>\n",
       "      <th>44</th>\n",
       "      <td>post_id</td>\n",
       "      <td>Instagrams ID</td>\n",
       "    </tr>\n",
       "    <tr>\n",
       "      <th>45</th>\n",
       "      <td>profile_id</td>\n",
       "      <td>Instagrams ID may be null</td>\n",
       "    </tr>\n",
       "    <tr>\n",
       "      <th>46</th>\n",
       "      <td>location_id</td>\n",
       "      <td>Instagrams ID</td>\n",
       "    </tr>\n",
       "    <tr>\n",
       "      <th>47</th>\n",
       "      <td>cts</td>\n",
       "      <td>Timestamp when the Post was created</td>\n",
       "    </tr>\n",
       "    <tr>\n",
       "      <th>48</th>\n",
       "      <td>post_type</td>\n",
       "      <td>1 - Photo, 2 - Video, 3 - multy</td>\n",
       "    </tr>\n",
       "    <tr>\n",
       "      <th>49</th>\n",
       "      <td>description</td>\n",
       "      <td>May contain '\\n'</td>\n",
       "    </tr>\n",
       "    <tr>\n",
       "      <th>50</th>\n",
       "      <td>numbr_likes</td>\n",
       "      <td>Number of Likes at the moment it was visited</td>\n",
       "    </tr>\n",
       "    <tr>\n",
       "      <th>51</th>\n",
       "      <td>number_comments</td>\n",
       "      <td>Number of comments at the moment it was visited</td>\n",
       "    </tr>\n",
       "  </tbody>\n",
       "</table>\n",
       "</div>"
      ],
      "text/plain": [
       "                     Field                                        Description\n",
       "0                      SID                                        Sequence ID\n",
       "1                       ID  Instagrams ID for that could be used on the we...\n",
       "2                     Name                                     Locations Name\n",
       "3                   Streen                   Streed Address, may contain '\\n'\n",
       "4                      ZIP                                           Zip code\n",
       "5                     City                                          City Name\n",
       "6                   Region                                             Region\n",
       "7                       CD                                       Country Code\n",
       "8                    Phone           The phone in format as on the Instragram\n",
       "9      aj_exact_city_match                        The Instagrams Internal key\n",
       "10  aj_exact_country_match                        The Instagrams Internal key\n",
       "11                   blurb         Description of the place, may contain '\\n'\n",
       "12             dir_city_id                    The Instagrams internal City ID\n",
       "13           dir_city_name                                          city Name\n",
       "14           dir_city_slug                                  City tag (sortof)\n",
       "15          dir_country_id                                         Country ID\n",
       "16        dir_country_name                                            country\n",
       "17                     lat                                           Latitude\n",
       "18                     lng                                         Longtitude\n",
       "19     primary_alias_on_fb                                          Bool Flag\n",
       "20                    slug                                                NaN\n",
       "21                 website  The URL to web site, may contain more then 1 U...\n",
       "22                     cts            Timestamp when the location was visited\n",
       "23                     NaN                                                NaN\n",
       "24                Profiles                                                NaN\n",
       "25                     NaN                                                NaN\n",
       "26                   Field                                        Description\n",
       "27                     SID                                        Sequence ID\n",
       "28              profile_id                                      Instagrams ID\n",
       "29            profile_name                                       profile name\n",
       "30      firstname_lastname                                 firstname lastname\n",
       "31             description                                   May contain '\\n'\n",
       "32               following  Number of following profile at the moment it w...\n",
       "33               Followers   Number of followers at the moment it was visited\n",
       "34                 n_posts       Number of posts at the moment it was visited\n",
       "35                     URL                                                Url\n",
       "36                     cts             Timestamp when the profile was visited\n",
       "37     is_business_account  Boolean flag if that profile was makred by the...\n",
       "38                     NaN                                                NaN\n",
       "39                   Posts                                                NaN\n",
       "40                     NaN                                                NaN\n",
       "41                   Field                                        Description\n",
       "42                     SID                                        Sequence ID\n",
       "43             sid_profile  Sequence ID of the profile from ## Profiles tabke\n",
       "44                 post_id                                      Instagrams ID\n",
       "45              profile_id                          Instagrams ID may be null\n",
       "46             location_id                                      Instagrams ID\n",
       "47                     cts                Timestamp when the Post was created\n",
       "48               post_type                    1 - Photo, 2 - Video, 3 - multy\n",
       "49             description                                   May contain '\\n'\n",
       "50             numbr_likes       Number of Likes at the moment it was visited\n",
       "51         number_comments    Number of comments at the moment it was visited"
      ]
     },
     "execution_count": 5,
     "metadata": {},
     "output_type": "execute_result"
    }
   ],
   "source": [
    "df_metadata"
   ]
  },
  {
   "cell_type": "markdown",
   "id": "45c5bb79",
   "metadata": {},
   "source": [
    "## Train dataset"
   ]
  },
  {
   "cell_type": "markdown",
   "id": "8d4b0539",
   "metadata": {},
   "source": [
    "### Data cleaning"
   ]
  },
  {
   "cell_type": "code",
   "execution_count": 7,
   "id": "3f9ae8c9",
   "metadata": {},
   "outputs": [
    {
     "data": {
      "text/html": [
       "<div>\n",
       "<style scoped>\n",
       "    .dataframe tbody tr th:only-of-type {\n",
       "        vertical-align: middle;\n",
       "    }\n",
       "\n",
       "    .dataframe tbody tr th {\n",
       "        vertical-align: top;\n",
       "    }\n",
       "\n",
       "    .dataframe thead th {\n",
       "        text-align: right;\n",
       "    }\n",
       "</style>\n",
       "<table border=\"1\" class=\"dataframe\">\n",
       "  <thead>\n",
       "    <tr style=\"text-align: right;\">\n",
       "      <th></th>\n",
       "      <th>Unnamed: 0.1</th>\n",
       "      <th>Unnamed: 0</th>\n",
       "      <th>location_id</th>\n",
       "      <th>profile_id</th>\n",
       "      <th>sid</th>\n",
       "      <th>sid_profile</th>\n",
       "      <th>post_id</th>\n",
       "      <th>post_type</th>\n",
       "      <th>description</th>\n",
       "      <th>numbr_likes</th>\n",
       "      <th>...</th>\n",
       "      <th>region</th>\n",
       "      <th>cd</th>\n",
       "      <th>phone</th>\n",
       "      <th>aj_exact_city_match</th>\n",
       "      <th>aj_exact_country_match</th>\n",
       "      <th>blurb</th>\n",
       "      <th>dir_city_name</th>\n",
       "      <th>dir_country_name</th>\n",
       "      <th>lat</th>\n",
       "      <th>lng</th>\n",
       "    </tr>\n",
       "  </thead>\n",
       "  <tbody>\n",
       "    <tr>\n",
       "      <th>0</th>\n",
       "      <td>11420</td>\n",
       "      <td>11755</td>\n",
       "      <td>340283947</td>\n",
       "      <td>829324748</td>\n",
       "      <td>28919418</td>\n",
       "      <td>295070</td>\n",
       "      <td>Bka_6xunYma</td>\n",
       "      <td>1</td>\n",
       "      <td>Cheers to wine O‚Äôclock ü•Ç (üì∏: @aob1085)</td>\n",
       "      <td>4985</td>\n",
       "      <td>...</td>\n",
       "      <td>NaN</td>\n",
       "      <td>ES</td>\n",
       "      <td>+34 936 65 77 41</td>\n",
       "      <td>False</td>\n",
       "      <td>False</td>\n",
       "      <td>NaN</td>\n",
       "      <td>El Prat de Llobregat</td>\n",
       "      <td>Spain</td>\n",
       "      <td>2</td>\n",
       "      <td>41</td>\n",
       "    </tr>\n",
       "    <tr>\n",
       "      <th>1</th>\n",
       "      <td>24264</td>\n",
       "      <td>24967</td>\n",
       "      <td>2631322</td>\n",
       "      <td>199074048</td>\n",
       "      <td>42114489</td>\n",
       "      <td>4342099</td>\n",
       "      <td>BxaZS4fA_nV</td>\n",
       "      <td>1</td>\n",
       "      <td>#malcapuyaisland #bananaisland #bulogisland</td>\n",
       "      <td>57</td>\n",
       "      <td>...</td>\n",
       "      <td>NaN</td>\n",
       "      <td>PH</td>\n",
       "      <td>NaN</td>\n",
       "      <td>True</td>\n",
       "      <td>False</td>\n",
       "      <td>NaN</td>\n",
       "      <td>Coron</td>\n",
       "      <td>Philippines</td>\n",
       "      <td>120</td>\n",
       "      <td>11</td>\n",
       "    </tr>\n",
       "    <tr>\n",
       "      <th>2</th>\n",
       "      <td>16286</td>\n",
       "      <td>16768</td>\n",
       "      <td>668571209</td>\n",
       "      <td>3280121227</td>\n",
       "      <td>19193237</td>\n",
       "      <td>2554203</td>\n",
       "      <td>BxmEzQUFocM</td>\n",
       "      <td>1</td>\n",
       "      <td>üî∏\\\\nSchwarzkehlchen (Saxicola rubicola) ‚Ä¢...</td>\n",
       "      <td>1576</td>\n",
       "      <td>...</td>\n",
       "      <td>Saxony-Anhalt</td>\n",
       "      <td>DE</td>\n",
       "      <td>NaN</td>\n",
       "      <td>False</td>\n",
       "      <td>True</td>\n",
       "      <td>NaN</td>\n",
       "      <td>NaN</td>\n",
       "      <td>NaN</td>\n",
       "      <td>11</td>\n",
       "      <td>51</td>\n",
       "    </tr>\n",
       "    <tr>\n",
       "      <th>3</th>\n",
       "      <td>11139</td>\n",
       "      <td>11467</td>\n",
       "      <td>238461670</td>\n",
       "      <td>5625643374</td>\n",
       "      <td>11733129</td>\n",
       "      <td>3465973</td>\n",
       "      <td>Bjq5KFGlJvM</td>\n",
       "      <td>1</td>\n",
       "      <td>Eared Grebe spotted at one of my favourite spo...</td>\n",
       "      <td>29</td>\n",
       "      <td>...</td>\n",
       "      <td>NaN</td>\n",
       "      <td>CA</td>\n",
       "      <td>NaN</td>\n",
       "      <td>True</td>\n",
       "      <td>False</td>\n",
       "      <td>NaN</td>\n",
       "      <td>NaN</td>\n",
       "      <td>NaN</td>\n",
       "      <td>-118</td>\n",
       "      <td>52</td>\n",
       "    </tr>\n",
       "    <tr>\n",
       "      <th>4</th>\n",
       "      <td>27320</td>\n",
       "      <td>28111</td>\n",
       "      <td>1005642734</td>\n",
       "      <td>1557071010</td>\n",
       "      <td>8540244</td>\n",
       "      <td>3541402</td>\n",
       "      <td>BweviowATmj</td>\n",
       "      <td>1</td>\n",
       "      <td>–ü–õ–ê–ö–ê–¢–¨ –í –ú–û–°–¢–ê–• - –≠–¢–û –ù–û–†...</td>\n",
       "      <td>1487</td>\n",
       "      <td>...</td>\n",
       "      <td>NaN</td>\n",
       "      <td>RU</td>\n",
       "      <td>79214201362</td>\n",
       "      <td>False</td>\n",
       "      <td>False</td>\n",
       "      <td>—Ü–µ–Ω—Ç—Ä –∏–Ω–∏—Ü–∏–∞—Ü–∏–∏ —Ç–≤–æ—Ä—á–µ—Å—Ç...</td>\n",
       "      <td>Aptekarskiy</td>\n",
       "      <td>Russia</td>\n",
       "      <td>30</td>\n",
       "      <td>59</td>\n",
       "    </tr>\n",
       "  </tbody>\n",
       "</table>\n",
       "<p>5 rows × 31 columns</p>\n",
       "</div>"
      ],
      "text/plain": [
       "   Unnamed: 0.1  Unnamed: 0  location_id  profile_id       sid  sid_profile  \\\n",
       "0         11420       11755    340283947   829324748  28919418       295070   \n",
       "1         24264       24967      2631322   199074048  42114489      4342099   \n",
       "2         16286       16768    668571209  3280121227  19193237      2554203   \n",
       "3         11139       11467    238461670  5625643374  11733129      3465973   \n",
       "4         27320       28111   1005642734  1557071010   8540244      3541402   \n",
       "\n",
       "       post_id  post_type                                        description  \\\n",
       "0  Bka_6xunYma          1     Cheers to wine O‚Äôclock ü•Ç (üì∏: @aob1085)   \n",
       "1  BxaZS4fA_nV          1        #malcapuyaisland #bananaisland #bulogisland   \n",
       "2  BxmEzQUFocM          1  üî∏\\\\nSchwarzkehlchen (Saxicola rubicola) ‚Ä¢...   \n",
       "3  Bjq5KFGlJvM          1  Eared Grebe spotted at one of my favourite spo...   \n",
       "4  BweviowATmj          1  –ü–õ–ê–ö–ê–¢–¨ –í –ú–û–°–¢–ê–• - –≠–¢–û –ù–û–†...   \n",
       "\n",
       "   numbr_likes  ...         region  cd             phone aj_exact_city_match  \\\n",
       "0         4985  ...            NaN  ES  +34 936 65 77 41               False   \n",
       "1           57  ...            NaN  PH               NaN                True   \n",
       "2         1576  ...  Saxony-Anhalt  DE               NaN               False   \n",
       "3           29  ...            NaN  CA               NaN                True   \n",
       "4         1487  ...            NaN  RU       79214201362               False   \n",
       "\n",
       "   aj_exact_country_match                                              blurb  \\\n",
       "0                   False                                                NaN   \n",
       "1                   False                                                NaN   \n",
       "2                    True                                                NaN   \n",
       "3                   False                                                NaN   \n",
       "4                   False  —Ü–µ–Ω—Ç—Ä –∏–Ω–∏—Ü–∏–∞—Ü–∏–∏ —Ç–≤–æ—Ä—á–µ—Å—Ç...   \n",
       "\n",
       "          dir_city_name dir_country_name  lat lng  \n",
       "0  El Prat de Llobregat            Spain    2  41  \n",
       "1                 Coron      Philippines  120  11  \n",
       "2                   NaN              NaN   11  51  \n",
       "3                   NaN              NaN -118  52  \n",
       "4           Aptekarskiy           Russia   30  59  \n",
       "\n",
       "[5 rows x 31 columns]"
      ]
     },
     "execution_count": 7,
     "metadata": {},
     "output_type": "execute_result"
    }
   ],
   "source": [
    "df_train.head()"
   ]
  },
  {
   "cell_type": "code",
   "execution_count": 8,
   "id": "9a860909",
   "metadata": {},
   "outputs": [
    {
     "data": {
      "text/plain": [
       "(22924, 31)"
      ]
     },
     "execution_count": 8,
     "metadata": {},
     "output_type": "execute_result"
    }
   ],
   "source": [
    "# examine the shape of train dataframe\n",
    "df_train.shape"
   ]
  },
  {
   "cell_type": "code",
   "execution_count": 11,
   "id": "bf9d876c",
   "metadata": {},
   "outputs": [
    {
     "data": {
      "text/plain": [
       "Index(['Unnamed: 0.1', 'Unnamed: 0', 'location_id', 'profile_id', 'sid',\n",
       "       'sid_profile', 'post_id', 'post_type', 'description', 'numbr_likes',\n",
       "       'number_comments', 'profile_name', 'firstname_lastname', 'following',\n",
       "       'followers', 'n_posts', 'url', 'is_business_account', 'name', 'zip',\n",
       "       'city', 'region', 'cd', 'phone', 'aj_exact_city_match',\n",
       "       'aj_exact_country_match', 'blurb', 'dir_city_name', 'dir_country_name',\n",
       "       'lat', 'lng'],\n",
       "      dtype='object')"
      ]
     },
     "execution_count": 11,
     "metadata": {},
     "output_type": "execute_result"
    }
   ],
   "source": [
    "# examine all column names\n",
    "df_train.columns"
   ]
  },
  {
   "cell_type": "code",
   "execution_count": 3,
   "id": "fe921a9a",
   "metadata": {},
   "outputs": [
    {
     "data": {
      "text/html": [
       "<div>\n",
       "<style scoped>\n",
       "    .dataframe tbody tr th:only-of-type {\n",
       "        vertical-align: middle;\n",
       "    }\n",
       "\n",
       "    .dataframe tbody tr th {\n",
       "        vertical-align: top;\n",
       "    }\n",
       "\n",
       "    .dataframe thead th {\n",
       "        text-align: right;\n",
       "    }\n",
       "</style>\n",
       "<table border=\"1\" class=\"dataframe\">\n",
       "  <thead>\n",
       "    <tr style=\"text-align: right;\">\n",
       "      <th></th>\n",
       "      <th>location_id</th>\n",
       "      <th>profile_id</th>\n",
       "      <th>sid</th>\n",
       "      <th>sid_profile</th>\n",
       "      <th>post_id</th>\n",
       "      <th>post_type</th>\n",
       "      <th>description</th>\n",
       "      <th>numbr_likes</th>\n",
       "      <th>number_comments</th>\n",
       "      <th>profile_name</th>\n",
       "      <th>...</th>\n",
       "      <th>region</th>\n",
       "      <th>cd</th>\n",
       "      <th>phone</th>\n",
       "      <th>aj_exact_city_match</th>\n",
       "      <th>aj_exact_country_match</th>\n",
       "      <th>blurb</th>\n",
       "      <th>dir_city_name</th>\n",
       "      <th>dir_country_name</th>\n",
       "      <th>lat</th>\n",
       "      <th>lng</th>\n",
       "    </tr>\n",
       "  </thead>\n",
       "  <tbody>\n",
       "    <tr>\n",
       "      <th>0</th>\n",
       "      <td>340283947</td>\n",
       "      <td>829324748</td>\n",
       "      <td>28919418</td>\n",
       "      <td>295070</td>\n",
       "      <td>Bka_6xunYma</td>\n",
       "      <td>1</td>\n",
       "      <td>Cheers to wine O‚Äôclock ü•Ç (üì∏: @aob1085)</td>\n",
       "      <td>4985</td>\n",
       "      <td>78</td>\n",
       "      <td>oprahmagazine</td>\n",
       "      <td>...</td>\n",
       "      <td>NaN</td>\n",
       "      <td>ES</td>\n",
       "      <td>+34 936 65 77 41</td>\n",
       "      <td>False</td>\n",
       "      <td>False</td>\n",
       "      <td>NaN</td>\n",
       "      <td>El Prat de Llobregat</td>\n",
       "      <td>Spain</td>\n",
       "      <td>2</td>\n",
       "      <td>41</td>\n",
       "    </tr>\n",
       "    <tr>\n",
       "      <th>1</th>\n",
       "      <td>2631322</td>\n",
       "      <td>199074048</td>\n",
       "      <td>42114489</td>\n",
       "      <td>4342099</td>\n",
       "      <td>BxaZS4fA_nV</td>\n",
       "      <td>1</td>\n",
       "      <td>#malcapuyaisland #bananaisland #bulogisland</td>\n",
       "      <td>57</td>\n",
       "      <td>2</td>\n",
       "      <td>jpadi_33</td>\n",
       "      <td>...</td>\n",
       "      <td>NaN</td>\n",
       "      <td>PH</td>\n",
       "      <td>NaN</td>\n",
       "      <td>True</td>\n",
       "      <td>False</td>\n",
       "      <td>NaN</td>\n",
       "      <td>Coron</td>\n",
       "      <td>Philippines</td>\n",
       "      <td>120</td>\n",
       "      <td>11</td>\n",
       "    </tr>\n",
       "    <tr>\n",
       "      <th>2</th>\n",
       "      <td>668571209</td>\n",
       "      <td>3280121227</td>\n",
       "      <td>19193237</td>\n",
       "      <td>2554203</td>\n",
       "      <td>BxmEzQUFocM</td>\n",
       "      <td>1</td>\n",
       "      <td>üî∏\\\\nSchwarzkehlchen (Saxicola rubicola) ‚Ä¢...</td>\n",
       "      <td>1576</td>\n",
       "      <td>15</td>\n",
       "      <td>m4r10_p13ch4ty</td>\n",
       "      <td>...</td>\n",
       "      <td>Saxony-Anhalt</td>\n",
       "      <td>DE</td>\n",
       "      <td>NaN</td>\n",
       "      <td>False</td>\n",
       "      <td>True</td>\n",
       "      <td>NaN</td>\n",
       "      <td>NaN</td>\n",
       "      <td>NaN</td>\n",
       "      <td>11</td>\n",
       "      <td>51</td>\n",
       "    </tr>\n",
       "    <tr>\n",
       "      <th>3</th>\n",
       "      <td>238461670</td>\n",
       "      <td>5625643374</td>\n",
       "      <td>11733129</td>\n",
       "      <td>3465973</td>\n",
       "      <td>Bjq5KFGlJvM</td>\n",
       "      <td>1</td>\n",
       "      <td>Eared Grebe spotted at one of my favourite spo...</td>\n",
       "      <td>29</td>\n",
       "      <td>5</td>\n",
       "      <td>vagabondesi</td>\n",
       "      <td>...</td>\n",
       "      <td>NaN</td>\n",
       "      <td>CA</td>\n",
       "      <td>NaN</td>\n",
       "      <td>True</td>\n",
       "      <td>False</td>\n",
       "      <td>NaN</td>\n",
       "      <td>NaN</td>\n",
       "      <td>NaN</td>\n",
       "      <td>-118</td>\n",
       "      <td>52</td>\n",
       "    </tr>\n",
       "    <tr>\n",
       "      <th>4</th>\n",
       "      <td>1005642734</td>\n",
       "      <td>1557071010</td>\n",
       "      <td>8540244</td>\n",
       "      <td>3541402</td>\n",
       "      <td>BweviowATmj</td>\n",
       "      <td>1</td>\n",
       "      <td>–ü–õ–ê–ö–ê–¢–¨ –í –ú–û–°–¢–ê–• - –≠–¢–û –ù–û–†...</td>\n",
       "      <td>1487</td>\n",
       "      <td>11</td>\n",
       "      <td>elena__mirra</td>\n",
       "      <td>...</td>\n",
       "      <td>NaN</td>\n",
       "      <td>RU</td>\n",
       "      <td>79214201362</td>\n",
       "      <td>False</td>\n",
       "      <td>False</td>\n",
       "      <td>—Ü–µ–Ω—Ç—Ä –∏–Ω–∏—Ü–∏–∞—Ü–∏–∏ —Ç–≤–æ—Ä—á–µ—Å—Ç...</td>\n",
       "      <td>Aptekarskiy</td>\n",
       "      <td>Russia</td>\n",
       "      <td>30</td>\n",
       "      <td>59</td>\n",
       "    </tr>\n",
       "  </tbody>\n",
       "</table>\n",
       "<p>5 rows × 29 columns</p>\n",
       "</div>"
      ],
      "text/plain": [
       "   location_id  profile_id       sid  sid_profile      post_id  post_type  \\\n",
       "0    340283947   829324748  28919418       295070  Bka_6xunYma          1   \n",
       "1      2631322   199074048  42114489      4342099  BxaZS4fA_nV          1   \n",
       "2    668571209  3280121227  19193237      2554203  BxmEzQUFocM          1   \n",
       "3    238461670  5625643374  11733129      3465973  Bjq5KFGlJvM          1   \n",
       "4   1005642734  1557071010   8540244      3541402  BweviowATmj          1   \n",
       "\n",
       "                                         description  numbr_likes  \\\n",
       "0     Cheers to wine O‚Äôclock ü•Ç (üì∏: @aob1085)         4985   \n",
       "1        #malcapuyaisland #bananaisland #bulogisland           57   \n",
       "2  üî∏\\\\nSchwarzkehlchen (Saxicola rubicola) ‚Ä¢...         1576   \n",
       "3  Eared Grebe spotted at one of my favourite spo...           29   \n",
       "4  –ü–õ–ê–ö–ê–¢–¨ –í –ú–û–°–¢–ê–• - –≠–¢–û –ù–û–†...         1487   \n",
       "\n",
       "   number_comments    profile_name  ...         region  cd             phone  \\\n",
       "0               78   oprahmagazine  ...            NaN  ES  +34 936 65 77 41   \n",
       "1                2        jpadi_33  ...            NaN  PH               NaN   \n",
       "2               15  m4r10_p13ch4ty  ...  Saxony-Anhalt  DE               NaN   \n",
       "3                5     vagabondesi  ...            NaN  CA               NaN   \n",
       "4               11    elena__mirra  ...            NaN  RU       79214201362   \n",
       "\n",
       "   aj_exact_city_match aj_exact_country_match  \\\n",
       "0                False                  False   \n",
       "1                 True                  False   \n",
       "2                False                   True   \n",
       "3                 True                  False   \n",
       "4                False                  False   \n",
       "\n",
       "                                               blurb         dir_city_name  \\\n",
       "0                                                NaN  El Prat de Llobregat   \n",
       "1                                                NaN                 Coron   \n",
       "2                                                NaN                   NaN   \n",
       "3                                                NaN                   NaN   \n",
       "4  —Ü–µ–Ω—Ç—Ä –∏–Ω–∏—Ü–∏–∞—Ü–∏–∏ —Ç–≤–æ—Ä—á–µ—Å—Ç...           Aptekarskiy   \n",
       "\n",
       "  dir_country_name  lat lng  \n",
       "0            Spain    2  41  \n",
       "1      Philippines  120  11  \n",
       "2              NaN   11  51  \n",
       "3              NaN -118  52  \n",
       "4           Russia   30  59  \n",
       "\n",
       "[5 rows x 29 columns]"
      ]
     },
     "execution_count": 3,
     "metadata": {},
     "output_type": "execute_result"
    }
   ],
   "source": [
    "# drop the first two unnamed columns\n",
    "df_train = df_train[[col for col in df_train.columns[2:]]]\n",
    "df_train.head()"
   ]
  },
  {
   "cell_type": "code",
   "execution_count": 24,
   "id": "9da1f8af",
   "metadata": {
    "scrolled": true
   },
   "outputs": [
    {
     "data": {
      "text/html": [
       "<div>\n",
       "<style scoped>\n",
       "    .dataframe tbody tr th:only-of-type {\n",
       "        vertical-align: middle;\n",
       "    }\n",
       "\n",
       "    .dataframe tbody tr th {\n",
       "        vertical-align: top;\n",
       "    }\n",
       "\n",
       "    .dataframe thead th {\n",
       "        text-align: right;\n",
       "    }\n",
       "</style>\n",
       "<table border=\"1\" class=\"dataframe\">\n",
       "  <thead>\n",
       "    <tr style=\"text-align: right;\">\n",
       "      <th></th>\n",
       "      <th>location_id</th>\n",
       "      <th>profile_id</th>\n",
       "      <th>sid</th>\n",
       "      <th>sid_profile</th>\n",
       "      <th>post_id</th>\n",
       "      <th>post_type</th>\n",
       "      <th>description</th>\n",
       "      <th>numbr_likes</th>\n",
       "      <th>number_comments</th>\n",
       "      <th>profile_name</th>\n",
       "      <th>...</th>\n",
       "      <th>region</th>\n",
       "      <th>cd</th>\n",
       "      <th>phone</th>\n",
       "      <th>aj_exact_city_match</th>\n",
       "      <th>aj_exact_country_match</th>\n",
       "      <th>blurb</th>\n",
       "      <th>dir_city_name</th>\n",
       "      <th>dir_country_name</th>\n",
       "      <th>lat</th>\n",
       "      <th>lng</th>\n",
       "    </tr>\n",
       "  </thead>\n",
       "  <tbody>\n",
       "    <tr>\n",
       "      <th>3275</th>\n",
       "      <td>48155</td>\n",
       "      <td>13020967320</td>\n",
       "      <td>39216808</td>\n",
       "      <td>3872873</td>\n",
       "      <td>BxSwqIaHG87</td>\n",
       "      <td>1</td>\n",
       "      <td>Diagon Ally</td>\n",
       "      <td>4</td>\n",
       "      <td>0</td>\n",
       "      <td>stefspitzig</td>\n",
       "      <td>...</td>\n",
       "      <td>NaN</td>\n",
       "      <td>GB</td>\n",
       "      <td>+44 1904 652915</td>\n",
       "      <td>False</td>\n",
       "      <td>False</td>\n",
       "      <td>NaN</td>\n",
       "      <td>NaN</td>\n",
       "      <td>NaN</td>\n",
       "      <td>-1</td>\n",
       "      <td>53</td>\n",
       "    </tr>\n",
       "    <tr>\n",
       "      <th>4313</th>\n",
       "      <td>252754719</td>\n",
       "      <td>10136621406</td>\n",
       "      <td>26969150</td>\n",
       "      <td>3304646</td>\n",
       "      <td>Bx_x-7UHaM6</td>\n",
       "      <td>2</td>\n",
       "      <td>NaN</td>\n",
       "      <td>0</td>\n",
       "      <td>0</td>\n",
       "      <td>iuranirones</td>\n",
       "      <td>...</td>\n",
       "      <td>NaN</td>\n",
       "      <td>MD</td>\n",
       "      <td>NaN</td>\n",
       "      <td>False</td>\n",
       "      <td>False</td>\n",
       "      <td>NaN</td>\n",
       "      <td>NaN</td>\n",
       "      <td>NaN</td>\n",
       "      <td>29</td>\n",
       "      <td>47</td>\n",
       "    </tr>\n",
       "    <tr>\n",
       "      <th>5085</th>\n",
       "      <td>287799875168712</td>\n",
       "      <td>10673102630</td>\n",
       "      <td>14225612</td>\n",
       "      <td>3593302</td>\n",
       "      <td>BxHsFWgn3Ra</td>\n",
       "      <td>2</td>\n",
       "      <td>NaN</td>\n",
       "      <td>2</td>\n",
       "      <td>0</td>\n",
       "      <td>q3pk7jyz</td>\n",
       "      <td>...</td>\n",
       "      <td>NaN</td>\n",
       "      <td>US</td>\n",
       "      <td>(305) 918-4040</td>\n",
       "      <td>False</td>\n",
       "      <td>False</td>\n",
       "      <td>NaN</td>\n",
       "      <td>NaN</td>\n",
       "      <td>NaN</td>\n",
       "      <td>-80</td>\n",
       "      <td>25</td>\n",
       "    </tr>\n",
       "    <tr>\n",
       "      <th>5242</th>\n",
       "      <td>228449875</td>\n",
       "      <td>10121739155</td>\n",
       "      <td>40330392</td>\n",
       "      <td>4032830</td>\n",
       "      <td>By8ZQa8iXQX</td>\n",
       "      <td>1</td>\n",
       "      <td>–ó–∞–∫–∞—Ç –Ω–∞–¥ –ü–µ—Ä—Ç–æ–∑–µ—Ä–æ–º</td>\n",
       "      <td>3</td>\n",
       "      <td>1</td>\n",
       "      <td>elenasorokina624</td>\n",
       "      <td>...</td>\n",
       "      <td>Republic of Karelia</td>\n",
       "      <td>RU</td>\n",
       "      <td>NaN</td>\n",
       "      <td>False</td>\n",
       "      <td>True</td>\n",
       "      <td>NaN</td>\n",
       "      <td>Shukogora</td>\n",
       "      <td>Russia</td>\n",
       "      <td>33</td>\n",
       "      <td>63</td>\n",
       "    </tr>\n",
       "    <tr>\n",
       "      <th>5430</th>\n",
       "      <td>607036219</td>\n",
       "      <td>1578979708</td>\n",
       "      <td>10983296</td>\n",
       "      <td>2497063</td>\n",
       "      <td>Bd_63ughbMj</td>\n",
       "      <td>1</td>\n",
       "      <td>NATURAL ADVANCED BASE YG BERASASKAN AQUA YANG ...</td>\n",
       "      <td>1</td>\n",
       "      <td>0</td>\n",
       "      <td>leezabeauty_</td>\n",
       "      <td>...</td>\n",
       "      <td>Kuala Lumpur</td>\n",
       "      <td>MY</td>\n",
       "      <td>NaN</td>\n",
       "      <td>False</td>\n",
       "      <td>True</td>\n",
       "      <td>NaN</td>\n",
       "      <td>Kuala Lumpur</td>\n",
       "      <td>Malaysia</td>\n",
       "      <td>101</td>\n",
       "      <td>3</td>\n",
       "    </tr>\n",
       "    <tr>\n",
       "      <th>...</th>\n",
       "      <td>...</td>\n",
       "      <td>...</td>\n",
       "      <td>...</td>\n",
       "      <td>...</td>\n",
       "      <td>...</td>\n",
       "      <td>...</td>\n",
       "      <td>...</td>\n",
       "      <td>...</td>\n",
       "      <td>...</td>\n",
       "      <td>...</td>\n",
       "      <td>...</td>\n",
       "      <td>...</td>\n",
       "      <td>...</td>\n",
       "      <td>...</td>\n",
       "      <td>...</td>\n",
       "      <td>...</td>\n",
       "      <td>...</td>\n",
       "      <td>...</td>\n",
       "      <td>...</td>\n",
       "      <td>...</td>\n",
       "      <td>...</td>\n",
       "    </tr>\n",
       "    <tr>\n",
       "      <th>22203</th>\n",
       "      <td>231262554313921</td>\n",
       "      <td>11473585979</td>\n",
       "      <td>8442382</td>\n",
       "      <td>3204481</td>\n",
       "      <td>BxGuKM_Hu2C</td>\n",
       "      <td>1</td>\n",
       "      <td>üòç extensive  star  major  extensive üòÑ  P...</td>\n",
       "      <td>0</td>\n",
       "      <td>0</td>\n",
       "      <td>uylkfonx</td>\n",
       "      <td>...</td>\n",
       "      <td>NaN</td>\n",
       "      <td>US</td>\n",
       "      <td>(305) 769-0274</td>\n",
       "      <td>False</td>\n",
       "      <td>False</td>\n",
       "      <td>NaN</td>\n",
       "      <td>NaN</td>\n",
       "      <td>NaN</td>\n",
       "      <td>-80</td>\n",
       "      <td>25</td>\n",
       "    </tr>\n",
       "    <tr>\n",
       "      <th>22225</th>\n",
       "      <td>55898</td>\n",
       "      <td>373092065</td>\n",
       "      <td>14697872</td>\n",
       "      <td>373564</td>\n",
       "      <td>BxOgzXsh-D4</td>\n",
       "      <td>1</td>\n",
       "      <td>NaN</td>\n",
       "      <td>4</td>\n",
       "      <td>0</td>\n",
       "      <td>eviechevy11</td>\n",
       "      <td>...</td>\n",
       "      <td>NaN</td>\n",
       "      <td>US</td>\n",
       "      <td>(212) 995-0333</td>\n",
       "      <td>False</td>\n",
       "      <td>False</td>\n",
       "      <td>NYC's original billiards club located in the h...</td>\n",
       "      <td>NaN</td>\n",
       "      <td>NaN</td>\n",
       "      <td>-73</td>\n",
       "      <td>40</td>\n",
       "    </tr>\n",
       "    <tr>\n",
       "      <th>22368</th>\n",
       "      <td>125019806</td>\n",
       "      <td>7947008573</td>\n",
       "      <td>43015191</td>\n",
       "      <td>4467442</td>\n",
       "      <td>BxUV7UNAUN-</td>\n",
       "      <td>1</td>\n",
       "      <td>2011</td>\n",
       "      <td>3</td>\n",
       "      <td>0</td>\n",
       "      <td>vladislavlishtvan2004</td>\n",
       "      <td>...</td>\n",
       "      <td>NaN</td>\n",
       "      <td>RU</td>\n",
       "      <td>NaN</td>\n",
       "      <td>True</td>\n",
       "      <td>False</td>\n",
       "      <td>NaN</td>\n",
       "      <td>K√§kisalmi</td>\n",
       "      <td>Russia</td>\n",
       "      <td>30</td>\n",
       "      <td>61</td>\n",
       "    </tr>\n",
       "    <tr>\n",
       "      <th>22381</th>\n",
       "      <td>214395308</td>\n",
       "      <td>3204686307</td>\n",
       "      <td>22726704</td>\n",
       "      <td>2893562</td>\n",
       "      <td>BVb_Ka2hAgD</td>\n",
       "      <td>1</td>\n",
       "      <td>Love this #NewNESTEA Slightly Sweet tea! #Free...</td>\n",
       "      <td>4</td>\n",
       "      <td>0</td>\n",
       "      <td>essentiallybellalove</td>\n",
       "      <td>...</td>\n",
       "      <td>NaN</td>\n",
       "      <td>US</td>\n",
       "      <td>NaN</td>\n",
       "      <td>True</td>\n",
       "      <td>False</td>\n",
       "      <td>NaN</td>\n",
       "      <td>Arcadia</td>\n",
       "      <td>United States</td>\n",
       "      <td>-118</td>\n",
       "      <td>34</td>\n",
       "    </tr>\n",
       "    <tr>\n",
       "      <th>22672</th>\n",
       "      <td>564344119</td>\n",
       "      <td>10845042111</td>\n",
       "      <td>36415459</td>\n",
       "      <td>3641659</td>\n",
       "      <td>BwyAzpOnWTh</td>\n",
       "      <td>2</td>\n",
       "      <td>üíê mind-boggling  Distinct  Luminance  mind-...</td>\n",
       "      <td>3</td>\n",
       "      <td>0</td>\n",
       "      <td>superb_baby_gender_reveals</td>\n",
       "      <td>...</td>\n",
       "      <td>NaN</td>\n",
       "      <td>US</td>\n",
       "      <td>(814) 446-2646</td>\n",
       "      <td>False</td>\n",
       "      <td>False</td>\n",
       "      <td>Alegr√≠a Mango Farm (Est. 1996) is a fresh fru...</td>\n",
       "      <td>Sunshine Ranches</td>\n",
       "      <td>United States</td>\n",
       "      <td>-80</td>\n",
       "      <td>26</td>\n",
       "    </tr>\n",
       "  </tbody>\n",
       "</table>\n",
       "<p>99 rows × 29 columns</p>\n",
       "</div>"
      ],
      "text/plain": [
       "           location_id   profile_id       sid  sid_profile      post_id  \\\n",
       "3275             48155  13020967320  39216808      3872873  BxSwqIaHG87   \n",
       "4313         252754719  10136621406  26969150      3304646  Bx_x-7UHaM6   \n",
       "5085   287799875168712  10673102630  14225612      3593302  BxHsFWgn3Ra   \n",
       "5242         228449875  10121739155  40330392      4032830  By8ZQa8iXQX   \n",
       "5430         607036219   1578979708  10983296      2497063  Bd_63ughbMj   \n",
       "...                ...          ...       ...          ...          ...   \n",
       "22203  231262554313921  11473585979   8442382      3204481  BxGuKM_Hu2C   \n",
       "22225            55898    373092065  14697872       373564  BxOgzXsh-D4   \n",
       "22368        125019806   7947008573  43015191      4467442  BxUV7UNAUN-   \n",
       "22381        214395308   3204686307  22726704      2893562  BVb_Ka2hAgD   \n",
       "22672        564344119  10845042111  36415459      3641659  BwyAzpOnWTh   \n",
       "\n",
       "       post_type                                        description  \\\n",
       "3275           1                                        Diagon Ally   \n",
       "4313           2                                                NaN   \n",
       "5085           2                                                NaN   \n",
       "5242           1             –ó–∞–∫–∞—Ç –Ω–∞–¥ –ü–µ—Ä—Ç–æ–∑–µ—Ä–æ–º   \n",
       "5430           1  NATURAL ADVANCED BASE YG BERASASKAN AQUA YANG ...   \n",
       "...          ...                                                ...   \n",
       "22203          1  üòç extensive  star  major  extensive üòÑ  P...   \n",
       "22225          1                                                NaN   \n",
       "22368          1                                               2011   \n",
       "22381          1  Love this #NewNESTEA Slightly Sweet tea! #Free...   \n",
       "22672          2  üíê mind-boggling  Distinct  Luminance  mind-...   \n",
       "\n",
       "       numbr_likes  number_comments                profile_name  ...  \\\n",
       "3275             4                0                 stefspitzig  ...   \n",
       "4313             0                0                 iuranirones  ...   \n",
       "5085             2                0                    q3pk7jyz  ...   \n",
       "5242             3                1            elenasorokina624  ...   \n",
       "5430             1                0                leezabeauty_  ...   \n",
       "...            ...              ...                         ...  ...   \n",
       "22203            0                0                    uylkfonx  ...   \n",
       "22225            4                0                 eviechevy11  ...   \n",
       "22368            3                0       vladislavlishtvan2004  ...   \n",
       "22381            4                0        essentiallybellalove  ...   \n",
       "22672            3                0  superb_baby_gender_reveals  ...   \n",
       "\n",
       "                    region  cd            phone  aj_exact_city_match  \\\n",
       "3275                   NaN  GB  +44 1904 652915                False   \n",
       "4313                   NaN  MD              NaN                False   \n",
       "5085                   NaN  US   (305) 918-4040                False   \n",
       "5242   Republic of Karelia  RU              NaN                False   \n",
       "5430          Kuala Lumpur  MY              NaN                False   \n",
       "...                    ...  ..              ...                  ...   \n",
       "22203                  NaN  US   (305) 769-0274                False   \n",
       "22225                  NaN  US   (212) 995-0333                False   \n",
       "22368                  NaN  RU              NaN                 True   \n",
       "22381                  NaN  US              NaN                 True   \n",
       "22672                  NaN  US   (814) 446-2646                False   \n",
       "\n",
       "      aj_exact_country_match  \\\n",
       "3275                   False   \n",
       "4313                   False   \n",
       "5085                   False   \n",
       "5242                    True   \n",
       "5430                    True   \n",
       "...                      ...   \n",
       "22203                  False   \n",
       "22225                  False   \n",
       "22368                  False   \n",
       "22381                  False   \n",
       "22672                  False   \n",
       "\n",
       "                                                   blurb     dir_city_name  \\\n",
       "3275                                                 NaN               NaN   \n",
       "4313                                                 NaN               NaN   \n",
       "5085                                                 NaN               NaN   \n",
       "5242                                                 NaN         Shukogora   \n",
       "5430                                                 NaN      Kuala Lumpur   \n",
       "...                                                  ...               ...   \n",
       "22203                                                NaN               NaN   \n",
       "22225  NYC's original billiards club located in the h...               NaN   \n",
       "22368                                                NaN        K√§kisalmi   \n",
       "22381                                                NaN           Arcadia   \n",
       "22672  Alegr√≠a Mango Farm (Est. 1996) is a fresh fru...  Sunshine Ranches   \n",
       "\n",
       "      dir_country_name  lat lng  \n",
       "3275               NaN   -1  53  \n",
       "4313               NaN   29  47  \n",
       "5085               NaN  -80  25  \n",
       "5242            Russia   33  63  \n",
       "5430          Malaysia  101   3  \n",
       "...                ...  ...  ..  \n",
       "22203              NaN  -80  25  \n",
       "22225              NaN  -73  40  \n",
       "22368           Russia   30  61  \n",
       "22381    United States -118  34  \n",
       "22672    United States  -80  26  \n",
       "\n",
       "[99 rows x 29 columns]"
      ]
     },
     "execution_count": 24,
     "metadata": {},
     "output_type": "execute_result"
    }
   ],
   "source": [
    "# check for duplicated rows\n",
    "df_train[df_train.duplicated()]"
   ]
  },
  {
   "cell_type": "markdown",
   "id": "ed6d6d24",
   "metadata": {},
   "source": [
    "There are 99 duplicated rows. These will be removed from the dataframe."
   ]
  },
  {
   "cell_type": "code",
   "execution_count": 4,
   "id": "dfffdf9c",
   "metadata": {},
   "outputs": [
    {
     "data": {
      "text/plain": [
       "(22825, 29)"
      ]
     },
     "execution_count": 4,
     "metadata": {},
     "output_type": "execute_result"
    }
   ],
   "source": [
    "# drop duplicated rows and check the updated dataframe shape\n",
    "df_train.drop_duplicates(inplace=True)\n",
    "df_train.shape"
   ]
  },
  {
   "cell_type": "markdown",
   "id": "55266b69",
   "metadata": {},
   "source": [
    "Based on the metadata, several predictors which could be useful for the prediction are shortlisted:\n",
    "- `post_type`\n",
    "- `number_comments`\n",
    "- `following`\n",
    "- `followers`\n",
    "- `n_posts`\n",
    "- `is_business_account`\n",
    "- `lat`\n",
    "- `lng`"
   ]
  },
  {
   "cell_type": "code",
   "execution_count": 5,
   "id": "9ffbb9d8",
   "metadata": {},
   "outputs": [
    {
     "data": {
      "text/html": [
       "<div>\n",
       "<style scoped>\n",
       "    .dataframe tbody tr th:only-of-type {\n",
       "        vertical-align: middle;\n",
       "    }\n",
       "\n",
       "    .dataframe tbody tr th {\n",
       "        vertical-align: top;\n",
       "    }\n",
       "\n",
       "    .dataframe thead th {\n",
       "        text-align: right;\n",
       "    }\n",
       "</style>\n",
       "<table border=\"1\" class=\"dataframe\">\n",
       "  <thead>\n",
       "    <tr style=\"text-align: right;\">\n",
       "      <th></th>\n",
       "      <th>post_type</th>\n",
       "      <th>number_comments</th>\n",
       "      <th>following</th>\n",
       "      <th>followers</th>\n",
       "      <th>n_posts</th>\n",
       "      <th>is_business_account</th>\n",
       "      <th>lat</th>\n",
       "      <th>lng</th>\n",
       "      <th>numbr_likes</th>\n",
       "    </tr>\n",
       "  </thead>\n",
       "  <tbody>\n",
       "    <tr>\n",
       "      <th>0</th>\n",
       "      <td>1</td>\n",
       "      <td>78</td>\n",
       "      <td>420</td>\n",
       "      <td>594895</td>\n",
       "      <td>3612.0</td>\n",
       "      <td>True</td>\n",
       "      <td>2</td>\n",
       "      <td>41</td>\n",
       "      <td>4985</td>\n",
       "    </tr>\n",
       "    <tr>\n",
       "      <th>1</th>\n",
       "      <td>1</td>\n",
       "      <td>2</td>\n",
       "      <td>486</td>\n",
       "      <td>428</td>\n",
       "      <td>95.0</td>\n",
       "      <td>False</td>\n",
       "      <td>120</td>\n",
       "      <td>11</td>\n",
       "      <td>57</td>\n",
       "    </tr>\n",
       "    <tr>\n",
       "      <th>2</th>\n",
       "      <td>1</td>\n",
       "      <td>15</td>\n",
       "      <td>5378</td>\n",
       "      <td>36618</td>\n",
       "      <td>1259.0</td>\n",
       "      <td>True</td>\n",
       "      <td>11</td>\n",
       "      <td>51</td>\n",
       "      <td>1576</td>\n",
       "    </tr>\n",
       "    <tr>\n",
       "      <th>3</th>\n",
       "      <td>1</td>\n",
       "      <td>5</td>\n",
       "      <td>62</td>\n",
       "      <td>126</td>\n",
       "      <td>39.0</td>\n",
       "      <td>False</td>\n",
       "      <td>-118</td>\n",
       "      <td>52</td>\n",
       "      <td>29</td>\n",
       "    </tr>\n",
       "    <tr>\n",
       "      <th>4</th>\n",
       "      <td>1</td>\n",
       "      <td>11</td>\n",
       "      <td>544</td>\n",
       "      <td>45450</td>\n",
       "      <td>1251.0</td>\n",
       "      <td>True</td>\n",
       "      <td>30</td>\n",
       "      <td>59</td>\n",
       "      <td>1487</td>\n",
       "    </tr>\n",
       "  </tbody>\n",
       "</table>\n",
       "</div>"
      ],
      "text/plain": [
       "   post_type  number_comments following  followers  n_posts  \\\n",
       "0          1               78       420     594895   3612.0   \n",
       "1          1                2       486        428     95.0   \n",
       "2          1               15      5378      36618   1259.0   \n",
       "3          1                5        62        126     39.0   \n",
       "4          1               11       544      45450   1251.0   \n",
       "\n",
       "  is_business_account  lat  lng  numbr_likes  \n",
       "0                True    2   41         4985  \n",
       "1               False  120   11           57  \n",
       "2                True   11   51         1576  \n",
       "3               False -118   52           29  \n",
       "4                True   30   59         1487  "
      ]
     },
     "execution_count": 5,
     "metadata": {},
     "output_type": "execute_result"
    }
   ],
   "source": [
    "# keep relevant variables\n",
    "predictors = ['post_type', 'number_comments', 'following', 'followers', 'n_posts', 'is_business_account', 'lat', 'lng', 'numbr_likes']\n",
    "df_train = df_train[[col for col in predictors]]\n",
    "df_train.head()"
   ]
  },
  {
   "cell_type": "code",
   "execution_count": 6,
   "id": "bf20502d",
   "metadata": {
    "scrolled": true
   },
   "outputs": [
    {
     "name": "stdout",
     "output_type": "stream",
     "text": [
      "<class 'pandas.core.frame.DataFrame'>\n",
      "Int64Index: 22825 entries, 0 to 22923\n",
      "Data columns (total 9 columns):\n",
      " #   Column               Non-Null Count  Dtype  \n",
      "---  ------               --------------  -----  \n",
      " 0   post_type            22825 non-null  int64  \n",
      " 1   number_comments      22825 non-null  int64  \n",
      " 2   following            22825 non-null  object \n",
      " 3   followers            22825 non-null  int64  \n",
      " 4   n_posts              22820 non-null  float64\n",
      " 5   is_business_account  22820 non-null  object \n",
      " 6   lat                  22825 non-null  int64  \n",
      " 7   lng                  22825 non-null  int64  \n",
      " 8   numbr_likes          22825 non-null  int64  \n",
      "dtypes: float64(1), int64(6), object(2)\n",
      "memory usage: 1.7+ MB\n"
     ]
    }
   ],
   "source": [
    "df_train.info()"
   ]
  },
  {
   "cell_type": "markdown",
   "id": "12190915",
   "metadata": {},
   "source": [
    "Some columns are not in the correct data type, so conversion will be performed."
   ]
  },
  {
   "cell_type": "code",
   "execution_count": 7,
   "id": "b43073b1",
   "metadata": {},
   "outputs": [
    {
     "data": {
      "text/html": [
       "<div>\n",
       "<style scoped>\n",
       "    .dataframe tbody tr th:only-of-type {\n",
       "        vertical-align: middle;\n",
       "    }\n",
       "\n",
       "    .dataframe tbody tr th {\n",
       "        vertical-align: top;\n",
       "    }\n",
       "\n",
       "    .dataframe thead th {\n",
       "        text-align: right;\n",
       "    }\n",
       "</style>\n",
       "<table border=\"1\" class=\"dataframe\">\n",
       "  <thead>\n",
       "    <tr style=\"text-align: right;\">\n",
       "      <th></th>\n",
       "      <th>post_type</th>\n",
       "      <th>number_comments</th>\n",
       "      <th>following</th>\n",
       "      <th>followers</th>\n",
       "      <th>n_posts</th>\n",
       "      <th>is_business_account</th>\n",
       "      <th>lat</th>\n",
       "      <th>lng</th>\n",
       "      <th>numbr_likes</th>\n",
       "    </tr>\n",
       "  </thead>\n",
       "  <tbody>\n",
       "    <tr>\n",
       "      <th>3535</th>\n",
       "      <td>1</td>\n",
       "      <td>26</td>\n",
       "      <td>2019-08-17 19:53:49.795000</td>\n",
       "      <td>0</td>\n",
       "      <td>NaN</td>\n",
       "      <td>NaN</td>\n",
       "      <td>139</td>\n",
       "      <td>35</td>\n",
       "      <td>1840</td>\n",
       "    </tr>\n",
       "    <tr>\n",
       "      <th>10687</th>\n",
       "      <td>1</td>\n",
       "      <td>33</td>\n",
       "      <td>2019-05-09 06:30:16.633000</td>\n",
       "      <td>0</td>\n",
       "      <td>NaN</td>\n",
       "      <td>NaN</td>\n",
       "      <td>-2</td>\n",
       "      <td>53</td>\n",
       "      <td>1935</td>\n",
       "    </tr>\n",
       "    <tr>\n",
       "      <th>17844</th>\n",
       "      <td>1</td>\n",
       "      <td>13</td>\n",
       "      <td>2019-07-16 12:32:59.400000</td>\n",
       "      <td>1</td>\n",
       "      <td>NaN</td>\n",
       "      <td>NaN</td>\n",
       "      <td>0</td>\n",
       "      <td>51</td>\n",
       "      <td>1225</td>\n",
       "    </tr>\n",
       "    <tr>\n",
       "      <th>22109</th>\n",
       "      <td>1</td>\n",
       "      <td>1</td>\n",
       "      <td>2019-03-26 23:58:10.746000</td>\n",
       "      <td>0</td>\n",
       "      <td>NaN</td>\n",
       "      <td>NaN</td>\n",
       "      <td>-118</td>\n",
       "      <td>33</td>\n",
       "      <td>84</td>\n",
       "    </tr>\n",
       "    <tr>\n",
       "      <th>22571</th>\n",
       "      <td>1</td>\n",
       "      <td>30</td>\n",
       "      <td>2019-05-09 06:30:16.633000</td>\n",
       "      <td>0</td>\n",
       "      <td>NaN</td>\n",
       "      <td>NaN</td>\n",
       "      <td>-89</td>\n",
       "      <td>21</td>\n",
       "      <td>3632</td>\n",
       "    </tr>\n",
       "  </tbody>\n",
       "</table>\n",
       "</div>"
      ],
      "text/plain": [
       "       post_type  number_comments                   following  followers  \\\n",
       "3535           1               26  2019-08-17 19:53:49.795000          0   \n",
       "10687          1               33  2019-05-09 06:30:16.633000          0   \n",
       "17844          1               13  2019-07-16 12:32:59.400000          1   \n",
       "22109          1                1  2019-03-26 23:58:10.746000          0   \n",
       "22571          1               30  2019-05-09 06:30:16.633000          0   \n",
       "\n",
       "       n_posts is_business_account  lat  lng  numbr_likes  \n",
       "3535       NaN                 NaN  139   35         1840  \n",
       "10687      NaN                 NaN   -2   53         1935  \n",
       "17844      NaN                 NaN    0   51         1225  \n",
       "22109      NaN                 NaN -118   33           84  \n",
       "22571      NaN                 NaN  -89   21         3632  "
      ]
     },
     "execution_count": 7,
     "metadata": {},
     "output_type": "execute_result"
    }
   ],
   "source": [
    "# check rows with invalid values in following column\n",
    "df_train.loc[df_train['following'].str.contains(r'\\D')]"
   ]
  },
  {
   "cell_type": "markdown",
   "id": "626d3495",
   "metadata": {},
   "source": [
    "The `following` column is shown to be of object type, which suggests there might be invalid values (values other tahn numbers) in the column. By further examination, these rows might be invalid as there are two null values. Since there are just very few rows, they will be removed."
   ]
  },
  {
   "cell_type": "code",
   "execution_count": 8,
   "id": "5fc0c45e",
   "metadata": {},
   "outputs": [],
   "source": [
    "# drop the invalid rows\n",
    "df_train.drop(df_train.index[df_train['following'].str.contains(r'\\D')], inplace = True)"
   ]
  },
  {
   "cell_type": "code",
   "execution_count": 9,
   "id": "09f3f468",
   "metadata": {
    "scrolled": true
   },
   "outputs": [
    {
     "name": "stdout",
     "output_type": "stream",
     "text": [
      "<class 'pandas.core.frame.DataFrame'>\n",
      "Int64Index: 22820 entries, 0 to 22923\n",
      "Data columns (total 9 columns):\n",
      " #   Column               Non-Null Count  Dtype\n",
      "---  ------               --------------  -----\n",
      " 0   post_type            22820 non-null  int64\n",
      " 1   number_comments      22820 non-null  int64\n",
      " 2   following            22820 non-null  int64\n",
      " 3   followers            22820 non-null  int64\n",
      " 4   n_posts              22820 non-null  int64\n",
      " 5   is_business_account  22820 non-null  int64\n",
      " 6   lat                  22820 non-null  int64\n",
      " 7   lng                  22820 non-null  int64\n",
      " 8   numbr_likes          22820 non-null  int64\n",
      "dtypes: int64(9)\n",
      "memory usage: 1.7 MB\n"
     ]
    }
   ],
   "source": [
    "# convert columns to the correct data types\n",
    "df_train['following'] = pd.to_numeric(df_train['following'])\n",
    "df_train['n_posts'] = df_train['n_posts'].astype(int)\n",
    "df_train['is_business_account'] = df_train['is_business_account'].replace({True: 1, False: 0})\n",
    "\n",
    "df_train.info()"
   ]
  },
  {
   "cell_type": "markdown",
   "id": "3adae1d6",
   "metadata": {},
   "source": [
    "The columns are now in the correct data types. By removing the invalid rows, the null values previously in `n_posts` and `is_business_account` have now been removed as well."
   ]
  },
  {
   "cell_type": "code",
   "execution_count": 10,
   "id": "a7724a36",
   "metadata": {},
   "outputs": [],
   "source": [
    "# write the cleaned train dataset to file\n",
    "df_train.to_csv('train_advance_cleaned.csv')"
   ]
  },
  {
   "cell_type": "markdown",
   "id": "8cdc1537",
   "metadata": {},
   "source": [
    "### Exploratory analysis"
   ]
  },
  {
   "cell_type": "code",
   "execution_count": 68,
   "id": "bf9e575e",
   "metadata": {
    "scrolled": true
   },
   "outputs": [
    {
     "data": {
      "text/html": [
       "<div>\n",
       "<style scoped>\n",
       "    .dataframe tbody tr th:only-of-type {\n",
       "        vertical-align: middle;\n",
       "    }\n",
       "\n",
       "    .dataframe tbody tr th {\n",
       "        vertical-align: top;\n",
       "    }\n",
       "\n",
       "    .dataframe thead th {\n",
       "        text-align: right;\n",
       "    }\n",
       "</style>\n",
       "<table border=\"1\" class=\"dataframe\">\n",
       "  <thead>\n",
       "    <tr style=\"text-align: right;\">\n",
       "      <th></th>\n",
       "      <th>post_type</th>\n",
       "      <th>number_comments</th>\n",
       "      <th>following</th>\n",
       "      <th>followers</th>\n",
       "      <th>n_posts</th>\n",
       "      <th>is_business_account</th>\n",
       "      <th>lat</th>\n",
       "      <th>lng</th>\n",
       "      <th>numbr_likes</th>\n",
       "    </tr>\n",
       "  </thead>\n",
       "  <tbody>\n",
       "    <tr>\n",
       "      <th>count</th>\n",
       "      <td>22820.000000</td>\n",
       "      <td>22820.000000</td>\n",
       "      <td>2.282000e+04</td>\n",
       "      <td>2.282000e+04</td>\n",
       "      <td>22820.000000</td>\n",
       "      <td>22820.000000</td>\n",
       "      <td>22820.000000</td>\n",
       "      <td>22820.000000</td>\n",
       "      <td>22820.000000</td>\n",
       "    </tr>\n",
       "    <tr>\n",
       "      <th>mean</th>\n",
       "      <td>1.027958</td>\n",
       "      <td>76.258896</td>\n",
       "      <td>1.580469e+03</td>\n",
       "      <td>2.342315e+05</td>\n",
       "      <td>1640.209641</td>\n",
       "      <td>0.570684</td>\n",
       "      <td>-7.154733</td>\n",
       "      <td>38.004251</td>\n",
       "      <td>4738.458238</td>\n",
       "    </tr>\n",
       "    <tr>\n",
       "      <th>std</th>\n",
       "      <td>0.164856</td>\n",
       "      <td>774.648082</td>\n",
       "      <td>2.133803e+04</td>\n",
       "      <td>9.620985e+05</td>\n",
       "      <td>2606.945097</td>\n",
       "      <td>0.494989</td>\n",
       "      <td>67.532912</td>\n",
       "      <td>20.494125</td>\n",
       "      <td>17829.073760</td>\n",
       "    </tr>\n",
       "    <tr>\n",
       "      <th>min</th>\n",
       "      <td>1.000000</td>\n",
       "      <td>0.000000</td>\n",
       "      <td>0.000000e+00</td>\n",
       "      <td>4.000000e+00</td>\n",
       "      <td>1.000000</td>\n",
       "      <td>0.000000</td>\n",
       "      <td>-179.000000</td>\n",
       "      <td>-89.000000</td>\n",
       "      <td>0.000000</td>\n",
       "    </tr>\n",
       "    <tr>\n",
       "      <th>25%</th>\n",
       "      <td>1.000000</td>\n",
       "      <td>4.000000</td>\n",
       "      <td>3.790000e+02</td>\n",
       "      <td>2.411000e+03</td>\n",
       "      <td>251.000000</td>\n",
       "      <td>0.000000</td>\n",
       "      <td>-73.000000</td>\n",
       "      <td>34.000000</td>\n",
       "      <td>209.750000</td>\n",
       "    </tr>\n",
       "    <tr>\n",
       "      <th>50%</th>\n",
       "      <td>1.000000</td>\n",
       "      <td>18.000000</td>\n",
       "      <td>7.770000e+02</td>\n",
       "      <td>2.849100e+04</td>\n",
       "      <td>766.000000</td>\n",
       "      <td>1.000000</td>\n",
       "      <td>0.000000</td>\n",
       "      <td>42.000000</td>\n",
       "      <td>1355.000000</td>\n",
       "    </tr>\n",
       "    <tr>\n",
       "      <th>75%</th>\n",
       "      <td>1.000000</td>\n",
       "      <td>52.000000</td>\n",
       "      <td>1.531250e+03</td>\n",
       "      <td>1.372375e+05</td>\n",
       "      <td>1964.000000</td>\n",
       "      <td>1.000000</td>\n",
       "      <td>37.000000</td>\n",
       "      <td>51.000000</td>\n",
       "      <td>3137.000000</td>\n",
       "    </tr>\n",
       "    <tr>\n",
       "      <th>max</th>\n",
       "      <td>2.000000</td>\n",
       "      <td>95204.000000</td>\n",
       "      <td>2.279094e+06</td>\n",
       "      <td>3.533971e+07</td>\n",
       "      <td>60330.000000</td>\n",
       "      <td>1.000000</td>\n",
       "      <td>179.000000</td>\n",
       "      <td>73.000000</td>\n",
       "      <td>544129.000000</td>\n",
       "    </tr>\n",
       "  </tbody>\n",
       "</table>\n",
       "</div>"
      ],
      "text/plain": [
       "          post_type  number_comments     following     followers  \\\n",
       "count  22820.000000     22820.000000  2.282000e+04  2.282000e+04   \n",
       "mean       1.027958        76.258896  1.580469e+03  2.342315e+05   \n",
       "std        0.164856       774.648082  2.133803e+04  9.620985e+05   \n",
       "min        1.000000         0.000000  0.000000e+00  4.000000e+00   \n",
       "25%        1.000000         4.000000  3.790000e+02  2.411000e+03   \n",
       "50%        1.000000        18.000000  7.770000e+02  2.849100e+04   \n",
       "75%        1.000000        52.000000  1.531250e+03  1.372375e+05   \n",
       "max        2.000000     95204.000000  2.279094e+06  3.533971e+07   \n",
       "\n",
       "            n_posts  is_business_account           lat           lng  \\\n",
       "count  22820.000000         22820.000000  22820.000000  22820.000000   \n",
       "mean    1640.209641             0.570684     -7.154733     38.004251   \n",
       "std     2606.945097             0.494989     67.532912     20.494125   \n",
       "min        1.000000             0.000000   -179.000000    -89.000000   \n",
       "25%      251.000000             0.000000    -73.000000     34.000000   \n",
       "50%      766.000000             1.000000      0.000000     42.000000   \n",
       "75%     1964.000000             1.000000     37.000000     51.000000   \n",
       "max    60330.000000             1.000000    179.000000     73.000000   \n",
       "\n",
       "         numbr_likes  \n",
       "count   22820.000000  \n",
       "mean     4738.458238  \n",
       "std     17829.073760  \n",
       "min         0.000000  \n",
       "25%       209.750000  \n",
       "50%      1355.000000  \n",
       "75%      3137.000000  \n",
       "max    544129.000000  "
      ]
     },
     "execution_count": 68,
     "metadata": {},
     "output_type": "execute_result"
    }
   ],
   "source": [
    "# check the range of values of each column\n",
    "df_train.describe()"
   ]
  },
  {
   "cell_type": "markdown",
   "id": "b524b1cf",
   "metadata": {},
   "source": [
    "The range of values for the continuous predictors - `number_comments`, `following`, `followers`, `n_posts` - is very big, but it does reflect the reality. Hence, outliers will not be considered for these predictors.\n",
    "\n",
    "Google search shows that the range of latitude is \\[-90,90\\] and the range of longitude is \\[-180,180\\]. Based on the range of values shown above, it is likely that the column names for latitude and longitude were switched. Hence, the column names will be corrected."
   ]
  },
  {
   "cell_type": "code",
   "execution_count": 11,
   "id": "15d391b3",
   "metadata": {},
   "outputs": [],
   "source": [
    "# switch the column names of latitude and longitude\n",
    "df_train.rename(columns = {'lat':'lng', 'lng':'lat'}, inplace = True)"
   ]
  },
  {
   "cell_type": "code",
   "execution_count": 12,
   "id": "5a51e529",
   "metadata": {},
   "outputs": [
    {
     "data": {
      "text/html": [
       "<div>\n",
       "<style scoped>\n",
       "    .dataframe tbody tr th:only-of-type {\n",
       "        vertical-align: middle;\n",
       "    }\n",
       "\n",
       "    .dataframe tbody tr th {\n",
       "        vertical-align: top;\n",
       "    }\n",
       "\n",
       "    .dataframe thead th {\n",
       "        text-align: right;\n",
       "    }\n",
       "</style>\n",
       "<table border=\"1\" class=\"dataframe\">\n",
       "  <thead>\n",
       "    <tr style=\"text-align: right;\">\n",
       "      <th></th>\n",
       "      <th>post_type</th>\n",
       "      <th>number_comments</th>\n",
       "      <th>following</th>\n",
       "      <th>followers</th>\n",
       "      <th>n_posts</th>\n",
       "      <th>is_business_account</th>\n",
       "      <th>lng</th>\n",
       "      <th>lat</th>\n",
       "      <th>numbr_likes</th>\n",
       "    </tr>\n",
       "  </thead>\n",
       "  <tbody>\n",
       "    <tr>\n",
       "      <th>count</th>\n",
       "      <td>22820.000000</td>\n",
       "      <td>22820.000000</td>\n",
       "      <td>2.282000e+04</td>\n",
       "      <td>2.282000e+04</td>\n",
       "      <td>22820.000000</td>\n",
       "      <td>22820.000000</td>\n",
       "      <td>22820.000000</td>\n",
       "      <td>22820.000000</td>\n",
       "      <td>22820.000000</td>\n",
       "    </tr>\n",
       "    <tr>\n",
       "      <th>mean</th>\n",
       "      <td>1.027958</td>\n",
       "      <td>76.258896</td>\n",
       "      <td>1.580469e+03</td>\n",
       "      <td>2.342315e+05</td>\n",
       "      <td>1640.209641</td>\n",
       "      <td>0.570684</td>\n",
       "      <td>-7.154733</td>\n",
       "      <td>38.004251</td>\n",
       "      <td>4738.458238</td>\n",
       "    </tr>\n",
       "    <tr>\n",
       "      <th>std</th>\n",
       "      <td>0.164856</td>\n",
       "      <td>774.648082</td>\n",
       "      <td>2.133803e+04</td>\n",
       "      <td>9.620985e+05</td>\n",
       "      <td>2606.945097</td>\n",
       "      <td>0.494989</td>\n",
       "      <td>67.532912</td>\n",
       "      <td>20.494125</td>\n",
       "      <td>17829.073760</td>\n",
       "    </tr>\n",
       "    <tr>\n",
       "      <th>min</th>\n",
       "      <td>1.000000</td>\n",
       "      <td>0.000000</td>\n",
       "      <td>0.000000e+00</td>\n",
       "      <td>4.000000e+00</td>\n",
       "      <td>1.000000</td>\n",
       "      <td>0.000000</td>\n",
       "      <td>-179.000000</td>\n",
       "      <td>-89.000000</td>\n",
       "      <td>0.000000</td>\n",
       "    </tr>\n",
       "    <tr>\n",
       "      <th>25%</th>\n",
       "      <td>1.000000</td>\n",
       "      <td>4.000000</td>\n",
       "      <td>3.790000e+02</td>\n",
       "      <td>2.411000e+03</td>\n",
       "      <td>251.000000</td>\n",
       "      <td>0.000000</td>\n",
       "      <td>-73.000000</td>\n",
       "      <td>34.000000</td>\n",
       "      <td>209.750000</td>\n",
       "    </tr>\n",
       "    <tr>\n",
       "      <th>50%</th>\n",
       "      <td>1.000000</td>\n",
       "      <td>18.000000</td>\n",
       "      <td>7.770000e+02</td>\n",
       "      <td>2.849100e+04</td>\n",
       "      <td>766.000000</td>\n",
       "      <td>1.000000</td>\n",
       "      <td>0.000000</td>\n",
       "      <td>42.000000</td>\n",
       "      <td>1355.000000</td>\n",
       "    </tr>\n",
       "    <tr>\n",
       "      <th>75%</th>\n",
       "      <td>1.000000</td>\n",
       "      <td>52.000000</td>\n",
       "      <td>1.531250e+03</td>\n",
       "      <td>1.372375e+05</td>\n",
       "      <td>1964.000000</td>\n",
       "      <td>1.000000</td>\n",
       "      <td>37.000000</td>\n",
       "      <td>51.000000</td>\n",
       "      <td>3137.000000</td>\n",
       "    </tr>\n",
       "    <tr>\n",
       "      <th>max</th>\n",
       "      <td>2.000000</td>\n",
       "      <td>95204.000000</td>\n",
       "      <td>2.279094e+06</td>\n",
       "      <td>3.533971e+07</td>\n",
       "      <td>60330.000000</td>\n",
       "      <td>1.000000</td>\n",
       "      <td>179.000000</td>\n",
       "      <td>73.000000</td>\n",
       "      <td>544129.000000</td>\n",
       "    </tr>\n",
       "  </tbody>\n",
       "</table>\n",
       "</div>"
      ],
      "text/plain": [
       "          post_type  number_comments     following     followers  \\\n",
       "count  22820.000000     22820.000000  2.282000e+04  2.282000e+04   \n",
       "mean       1.027958        76.258896  1.580469e+03  2.342315e+05   \n",
       "std        0.164856       774.648082  2.133803e+04  9.620985e+05   \n",
       "min        1.000000         0.000000  0.000000e+00  4.000000e+00   \n",
       "25%        1.000000         4.000000  3.790000e+02  2.411000e+03   \n",
       "50%        1.000000        18.000000  7.770000e+02  2.849100e+04   \n",
       "75%        1.000000        52.000000  1.531250e+03  1.372375e+05   \n",
       "max        2.000000     95204.000000  2.279094e+06  3.533971e+07   \n",
       "\n",
       "            n_posts  is_business_account           lng           lat  \\\n",
       "count  22820.000000         22820.000000  22820.000000  22820.000000   \n",
       "mean    1640.209641             0.570684     -7.154733     38.004251   \n",
       "std     2606.945097             0.494989     67.532912     20.494125   \n",
       "min        1.000000             0.000000   -179.000000    -89.000000   \n",
       "25%      251.000000             0.000000    -73.000000     34.000000   \n",
       "50%      766.000000             1.000000      0.000000     42.000000   \n",
       "75%     1964.000000             1.000000     37.000000     51.000000   \n",
       "max    60330.000000             1.000000    179.000000     73.000000   \n",
       "\n",
       "         numbr_likes  \n",
       "count   22820.000000  \n",
       "mean     4738.458238  \n",
       "std     17829.073760  \n",
       "min         0.000000  \n",
       "25%       209.750000  \n",
       "50%      1355.000000  \n",
       "75%      3137.000000  \n",
       "max    544129.000000  "
      ]
     },
     "execution_count": 12,
     "metadata": {},
     "output_type": "execute_result"
    }
   ],
   "source": [
    "# check that the column names have been switched\n",
    "df_train.describe()"
   ]
  },
  {
   "cell_type": "code",
   "execution_count": 70,
   "id": "c44407d0",
   "metadata": {},
   "outputs": [
    {
     "data": {
      "text/plain": [
       "1    22182\n",
       "2      638\n",
       "Name: post_type, dtype: int64"
      ]
     },
     "execution_count": 70,
     "metadata": {},
     "output_type": "execute_result"
    }
   ],
   "source": [
    "# obtain distribution of post_type\n",
    "post_type = df_train['post_type'].value_counts()\n",
    "post_type "
   ]
  },
  {
   "cell_type": "code",
   "execution_count": 73,
   "id": "81ab9ea8",
   "metadata": {
    "scrolled": false
   },
   "outputs": [
    {
     "data": {
      "image/png": "[encoded data removed]",
      "text/plain": [
       "<Figure size 576x432 with 1 Axes>"
      ]
     },
     "metadata": {
      "needs_background": "light"
     },
     "output_type": "display_data"
    }
   ],
   "source": [
    "# visualise distribution of post type\n",
    "plt.figure(figsize=(8,6))\n",
    "plt.bar(['Photo', 'Video'], post_type, width=0.5)\n",
    "plt.title('Distribution of post type')\n",
    "plt.show()"
   ]
  },
  {
   "cell_type": "markdown",
   "id": "49f83e83",
   "metadata": {},
   "source": [
    "The majority of posts are in the form of photos."
   ]
  },
  {
   "cell_type": "code",
   "execution_count": 71,
   "id": "c2d5bc26",
   "metadata": {},
   "outputs": [
    {
     "data": {
      "text/plain": [
       "1    13023\n",
       "0     9797\n",
       "Name: is_business_account, dtype: int64"
      ]
     },
     "execution_count": 71,
     "metadata": {},
     "output_type": "execute_result"
    }
   ],
   "source": [
    "# obtain distribution of business account\n",
    "business_acc = df_train['is_business_account'].value_counts()\n",
    "business_acc "
   ]
  },
  {
   "cell_type": "code",
   "execution_count": 72,
   "id": "449379fb",
   "metadata": {
    "scrolled": false
   },
   "outputs": [
    {
     "data": {
      "image/png": "[encoded data removed]",
      "text/plain": [
       "<Figure size 576x432 with 1 Axes>"
      ]
     },
     "metadata": {
      "needs_background": "light"
     },
     "output_type": "display_data"
    }
   ],
   "source": [
    "# visualise distribution of business account\n",
    "plt.figure(figsize=(8,6))\n",
    "plt.bar(['Business account', 'Non-business account'], business_acc, width=0.5)\n",
    "plt.title('Distribution of business account')\n",
    "plt.show()"
   ]
  },
  {
   "cell_type": "markdown",
   "id": "514d1df7",
   "metadata": {},
   "source": [
    "The majority of accounts are business accounts."
   ]
  },
  {
   "cell_type": "markdown",
   "id": "d22c4ef1",
   "metadata": {},
   "source": [
    "### Feature engineering"
   ]
  },
  {
   "cell_type": "markdown",
   "id": "1f4d5c69",
   "metadata": {},
   "source": [
    "Before fitting a regression model, the `post_type` column has to be one-hot encoded to be transformed into continuous variables."
   ]
  },
  {
   "cell_type": "code",
   "execution_count": 13,
   "id": "32222cb4",
   "metadata": {},
   "outputs": [],
   "source": [
    "# one-hot encode post type column\n",
    "ohe = OneHotEncoder()\n",
    "df_train[['is_photo', 'is_video']] = ohe.fit_transform(df_train[['post_type']]).toarray()"
   ]
  },
  {
   "cell_type": "code",
   "execution_count": 14,
   "id": "7ca14ad1",
   "metadata": {},
   "outputs": [
    {
     "data": {
      "text/html": [
       "<div>\n",
       "<style scoped>\n",
       "    .dataframe tbody tr th:only-of-type {\n",
       "        vertical-align: middle;\n",
       "    }\n",
       "\n",
       "    .dataframe tbody tr th {\n",
       "        vertical-align: top;\n",
       "    }\n",
       "\n",
       "    .dataframe thead th {\n",
       "        text-align: right;\n",
       "    }\n",
       "</style>\n",
       "<table border=\"1\" class=\"dataframe\">\n",
       "  <thead>\n",
       "    <tr style=\"text-align: right;\">\n",
       "      <th></th>\n",
       "      <th>post_type</th>\n",
       "      <th>number_comments</th>\n",
       "      <th>following</th>\n",
       "      <th>followers</th>\n",
       "      <th>n_posts</th>\n",
       "      <th>is_business_account</th>\n",
       "      <th>lng</th>\n",
       "      <th>lat</th>\n",
       "      <th>numbr_likes</th>\n",
       "      <th>is_photo</th>\n",
       "      <th>is_video</th>\n",
       "    </tr>\n",
       "  </thead>\n",
       "  <tbody>\n",
       "    <tr>\n",
       "      <th>0</th>\n",
       "      <td>1</td>\n",
       "      <td>78</td>\n",
       "      <td>420</td>\n",
       "      <td>594895</td>\n",
       "      <td>3612</td>\n",
       "      <td>1</td>\n",
       "      <td>2</td>\n",
       "      <td>41</td>\n",
       "      <td>4985</td>\n",
       "      <td>1.0</td>\n",
       "      <td>0.0</td>\n",
       "    </tr>\n",
       "    <tr>\n",
       "      <th>1</th>\n",
       "      <td>1</td>\n",
       "      <td>2</td>\n",
       "      <td>486</td>\n",
       "      <td>428</td>\n",
       "      <td>95</td>\n",
       "      <td>0</td>\n",
       "      <td>120</td>\n",
       "      <td>11</td>\n",
       "      <td>57</td>\n",
       "      <td>1.0</td>\n",
       "      <td>0.0</td>\n",
       "    </tr>\n",
       "    <tr>\n",
       "      <th>2</th>\n",
       "      <td>1</td>\n",
       "      <td>15</td>\n",
       "      <td>5378</td>\n",
       "      <td>36618</td>\n",
       "      <td>1259</td>\n",
       "      <td>1</td>\n",
       "      <td>11</td>\n",
       "      <td>51</td>\n",
       "      <td>1576</td>\n",
       "      <td>1.0</td>\n",
       "      <td>0.0</td>\n",
       "    </tr>\n",
       "    <tr>\n",
       "      <th>3</th>\n",
       "      <td>1</td>\n",
       "      <td>5</td>\n",
       "      <td>62</td>\n",
       "      <td>126</td>\n",
       "      <td>39</td>\n",
       "      <td>0</td>\n",
       "      <td>-118</td>\n",
       "      <td>52</td>\n",
       "      <td>29</td>\n",
       "      <td>1.0</td>\n",
       "      <td>0.0</td>\n",
       "    </tr>\n",
       "    <tr>\n",
       "      <th>4</th>\n",
       "      <td>1</td>\n",
       "      <td>11</td>\n",
       "      <td>544</td>\n",
       "      <td>45450</td>\n",
       "      <td>1251</td>\n",
       "      <td>1</td>\n",
       "      <td>30</td>\n",
       "      <td>59</td>\n",
       "      <td>1487</td>\n",
       "      <td>1.0</td>\n",
       "      <td>0.0</td>\n",
       "    </tr>\n",
       "  </tbody>\n",
       "</table>\n",
       "</div>"
      ],
      "text/plain": [
       "   post_type  number_comments  following  followers  n_posts  \\\n",
       "0          1               78        420     594895     3612   \n",
       "1          1                2        486        428       95   \n",
       "2          1               15       5378      36618     1259   \n",
       "3          1                5         62        126       39   \n",
       "4          1               11        544      45450     1251   \n",
       "\n",
       "   is_business_account  lng  lat  numbr_likes  is_photo  is_video  \n",
       "0                    1    2   41         4985       1.0       0.0  \n",
       "1                    0  120   11           57       1.0       0.0  \n",
       "2                    1   11   51         1576       1.0       0.0  \n",
       "3                    0 -118   52           29       1.0       0.0  \n",
       "4                    1   30   59         1487       1.0       0.0  "
      ]
     },
     "execution_count": 14,
     "metadata": {},
     "output_type": "execute_result"
    }
   ],
   "source": [
    "# check the one-hot encoded columns are added\n",
    "df_train.head()"
   ]
  },
  {
   "cell_type": "code",
   "execution_count": 15,
   "id": "7c3d2121",
   "metadata": {},
   "outputs": [
    {
     "data": {
      "text/html": [
       "<div>\n",
       "<style scoped>\n",
       "    .dataframe tbody tr th:only-of-type {\n",
       "        vertical-align: middle;\n",
       "    }\n",
       "\n",
       "    .dataframe tbody tr th {\n",
       "        vertical-align: top;\n",
       "    }\n",
       "\n",
       "    .dataframe thead th {\n",
       "        text-align: right;\n",
       "    }\n",
       "</style>\n",
       "<table border=\"1\" class=\"dataframe\">\n",
       "  <thead>\n",
       "    <tr style=\"text-align: right;\">\n",
       "      <th></th>\n",
       "      <th>number_comments</th>\n",
       "      <th>following</th>\n",
       "      <th>followers</th>\n",
       "      <th>n_posts</th>\n",
       "      <th>is_business_account</th>\n",
       "      <th>lng</th>\n",
       "      <th>lat</th>\n",
       "      <th>numbr_likes</th>\n",
       "      <th>is_photo</th>\n",
       "      <th>is_video</th>\n",
       "    </tr>\n",
       "  </thead>\n",
       "  <tbody>\n",
       "    <tr>\n",
       "      <th>0</th>\n",
       "      <td>78</td>\n",
       "      <td>420</td>\n",
       "      <td>594895</td>\n",
       "      <td>3612</td>\n",
       "      <td>1</td>\n",
       "      <td>2</td>\n",
       "      <td>41</td>\n",
       "      <td>4985</td>\n",
       "      <td>1.0</td>\n",
       "      <td>0.0</td>\n",
       "    </tr>\n",
       "    <tr>\n",
       "      <th>1</th>\n",
       "      <td>2</td>\n",
       "      <td>486</td>\n",
       "      <td>428</td>\n",
       "      <td>95</td>\n",
       "      <td>0</td>\n",
       "      <td>120</td>\n",
       "      <td>11</td>\n",
       "      <td>57</td>\n",
       "      <td>1.0</td>\n",
       "      <td>0.0</td>\n",
       "    </tr>\n",
       "    <tr>\n",
       "      <th>2</th>\n",
       "      <td>15</td>\n",
       "      <td>5378</td>\n",
       "      <td>36618</td>\n",
       "      <td>1259</td>\n",
       "      <td>1</td>\n",
       "      <td>11</td>\n",
       "      <td>51</td>\n",
       "      <td>1576</td>\n",
       "      <td>1.0</td>\n",
       "      <td>0.0</td>\n",
       "    </tr>\n",
       "    <tr>\n",
       "      <th>3</th>\n",
       "      <td>5</td>\n",
       "      <td>62</td>\n",
       "      <td>126</td>\n",
       "      <td>39</td>\n",
       "      <td>0</td>\n",
       "      <td>-118</td>\n",
       "      <td>52</td>\n",
       "      <td>29</td>\n",
       "      <td>1.0</td>\n",
       "      <td>0.0</td>\n",
       "    </tr>\n",
       "    <tr>\n",
       "      <th>4</th>\n",
       "      <td>11</td>\n",
       "      <td>544</td>\n",
       "      <td>45450</td>\n",
       "      <td>1251</td>\n",
       "      <td>1</td>\n",
       "      <td>30</td>\n",
       "      <td>59</td>\n",
       "      <td>1487</td>\n",
       "      <td>1.0</td>\n",
       "      <td>0.0</td>\n",
       "    </tr>\n",
       "  </tbody>\n",
       "</table>\n",
       "</div>"
      ],
      "text/plain": [
       "   number_comments  following  followers  n_posts  is_business_account  lng  \\\n",
       "0               78        420     594895     3612                    1    2   \n",
       "1                2        486        428       95                    0  120   \n",
       "2               15       5378      36618     1259                    1   11   \n",
       "3                5         62        126       39                    0 -118   \n",
       "4               11        544      45450     1251                    1   30   \n",
       "\n",
       "   lat  numbr_likes  is_photo  is_video  \n",
       "0   41         4985       1.0       0.0  \n",
       "1   11           57       1.0       0.0  \n",
       "2   51         1576       1.0       0.0  \n",
       "3   52           29       1.0       0.0  \n",
       "4   59         1487       1.0       0.0  "
      ]
     },
     "execution_count": 15,
     "metadata": {},
     "output_type": "execute_result"
    }
   ],
   "source": [
    "# drop post type column\n",
    "df_train = df_train.iloc[:,1:]\n",
    "df_train.head()"
   ]
  },
  {
   "cell_type": "code",
   "execution_count": 189,
   "id": "d0b0dd48",
   "metadata": {
    "scrolled": false
   },
   "outputs": [
    {
     "data": {
      "image/png": "[encoded data removed]",
      "text/plain": [
       "<Figure size 576x432 with 2 Axes>"
      ]
     },
     "metadata": {
      "needs_background": "light"
     },
     "output_type": "display_data"
    }
   ],
   "source": [
    "# visualise correlation matrix\n",
    "plt.figure(figsize=(8,6))\n",
    "sns.heatmap(df_train.corr(), annot=True)\n",
    "plt.show()"
   ]
  },
  {
   "cell_type": "markdown",
   "id": "2010d63f",
   "metadata": {},
   "source": [
    "The number of comments, number of follwoers, and number of posts have correlation >= 0.1 with the number of likes."
   ]
  },
  {
   "cell_type": "code",
   "execution_count": 186,
   "id": "75141ed8",
   "metadata": {
    "scrolled": false
   },
   "outputs": [
    {
     "data": {
      "text/plain": [
       "<seaborn.axisgrid.PairGrid at 0x7fc2f8099c10>"
      ]
     },
     "execution_count": 186,
     "metadata": {},
     "output_type": "execute_result"
    },
    {
     "data": {
      "image/png": "[encoded data removed]",
      "text/plain": [
       "<Figure size 1800x1800 with 110 Axes>"
      ]
     },
     "metadata": {
      "needs_background": "light"
     },
     "output_type": "display_data"
    }
   ],
   "source": [
    "# visualise pairwise scatter plot\n",
    "sns.pairplot(df_train)"
   ]
  },
  {
   "cell_type": "markdown",
   "id": "c73a837d",
   "metadata": {},
   "source": [
    "The number of followers seems to have a power law relationship with the number of likes. Try visualising with log transformation on both variables."
   ]
  },
  {
   "cell_type": "code",
   "execution_count": 22,
   "id": "a809e108",
   "metadata": {},
   "outputs": [
    {
     "data": {
      "image/png": "[encoded data removed]",
      "text/plain": [
       "<Figure size 432x288 with 1 Axes>"
      ]
     },
     "metadata": {
      "needs_background": "light"
     },
     "output_type": "display_data"
    }
   ],
   "source": [
    "plt.figure()\n",
    "plt.scatter(np.log(df_train['followers']), np.log(df_train['numbr_likes']))\n",
    "plt.xlabel('log(followers)')\n",
    "plt.ylabel('log(number of likes)')\n",
    "plt.show()"
   ]
  },
  {
   "cell_type": "markdown",
   "id": "996378aa",
   "metadata": {},
   "source": [
    "The relationship here seems linear."
   ]
  },
  {
   "cell_type": "markdown",
   "id": "7d2904fe",
   "metadata": {},
   "source": [
    "### Modelling"
   ]
  },
  {
   "cell_type": "code",
   "execution_count": 16,
   "id": "985e2898",
   "metadata": {},
   "outputs": [
    {
     "name": "stdout",
     "output_type": "stream",
     "text": [
      "X shape:  (22820, 9)\n",
      "y shape:  (22820,)\n"
     ]
    }
   ],
   "source": [
    "# get predictor and target variables\n",
    "X = df_train[[i for i in df_train.columns if i != 'numbr_likes']]\n",
    "y = df_train['numbr_likes']\n",
    "\n",
    "print('X shape: ', X.shape)\n",
    "print('y shape: ', y.shape)"
   ]
  },
  {
   "cell_type": "code",
   "execution_count": 17,
   "id": "555eadd8",
   "metadata": {},
   "outputs": [],
   "source": [
    "# split predictors and target variables into train and validation sets\n",
    "X_train, X_val, y_train, y_val = train_test_split(X, y, train_size=0.8, random_state=42)"
   ]
  },
  {
   "cell_type": "markdown",
   "id": "80dbc647",
   "metadata": {},
   "source": [
    "#### Linear Regression"
   ]
  },
  {
   "cell_type": "markdown",
   "id": "a355e397",
   "metadata": {},
   "source": [
    "First, fit a linear regression model with all features."
   ]
  },
  {
   "cell_type": "code",
   "execution_count": 151,
   "id": "02e7145a",
   "metadata": {},
   "outputs": [
    {
     "data": {
      "text/plain": [
       "13205.256653628567"
      ]
     },
     "execution_count": 151,
     "metadata": {},
     "output_type": "execute_result"
    }
   ],
   "source": [
    "lr = LinearRegression()\n",
    "lr.fit(X_train, y_train)\n",
    "pred_lr = lr.predict(X_val)\n",
    "rmse_lr = mean_squared_error(y_val, pred_lr, squared=False)\n",
    "rmse_lr"
   ]
  },
  {
   "cell_type": "markdown",
   "id": "cbde2502",
   "metadata": {},
   "source": [
    "#### Linear regression with stepwise selection"
   ]
  },
  {
   "cell_type": "markdown",
   "id": "631da3bb",
   "metadata": {},
   "source": [
    "Perform stepwise feature selection by removing features with the highest p-value, and verify that the AIC decreases after each step."
   ]
  },
  {
   "cell_type": "code",
   "execution_count": 107,
   "id": "8547d392",
   "metadata": {
    "collapsed": true
   },
   "outputs": [
    {
     "name": "stdout",
     "output_type": "stream",
     "text": [
      "                            OLS Regression Results                            \n",
      "==============================================================================\n",
      "Dep. Variable:            numbr_likes   R-squared:                       0.391\n",
      "Model:                            OLS   Adj. R-squared:                  0.390\n",
      "Method:                 Least Squares   F-statistic:                     1828.\n",
      "Date:                Sat, 01 Oct 2022   Prob (F-statistic):               0.00\n",
      "Time:                        15:00:59   Log-Likelihood:            -2.5010e+05\n",
      "No. Observations:               22820   AIC:                         5.002e+05\n",
      "Df Residuals:                   22811   BIC:                         5.003e+05\n",
      "Df Model:                           8                                         \n",
      "Covariance Type:            nonrobust                                         \n",
      "=======================================================================================\n",
      "                          coef    std err          t      P>|t|      [0.025      0.975]\n",
      "---------------------------------------------------------------------------------------\n",
      "Intercept            2212.1067    236.448      9.356      0.000    1748.652    2675.562\n",
      "number_comments         4.4666      0.121     36.917      0.000       4.229       4.704\n",
      "following              -0.0022      0.004     -0.507      0.612      -0.011       0.006\n",
      "followers               0.0106      0.000    104.616      0.000       0.010       0.011\n",
      "n_posts                -0.4671      0.037    -12.593      0.000      -0.540      -0.394\n",
      "is_business_account -1028.1945    186.915     -5.501      0.000   -1394.561    -661.828\n",
      "lng                     0.2810      1.371      0.205      0.838      -2.406       2.968\n",
      "lat                    -1.3893      4.535     -0.306      0.759     -10.278       7.499\n",
      "is_photo             1104.7141    204.476      5.403      0.000     703.928    1505.501\n",
      "is_video             1107.3926    379.501      2.918      0.004     363.545    1851.241\n",
      "==============================================================================\n",
      "Omnibus:                    32546.530   Durbin-Watson:                   1.988\n",
      "Prob(Omnibus):                  0.000   Jarque-Bera (JB):         61992888.656\n",
      "Skew:                           7.788   Prob(JB):                         0.00\n",
      "Kurtosis:                     257.864   Cond. No.                     7.87e+21\n",
      "==============================================================================\n",
      "\n",
      "Notes:\n",
      "[1] Standard Errors assume that the covariance matrix of the errors is correctly specified.\n",
      "[2] The smallest eigenvalue is 3.61e-28. This might indicate that there are\n",
      "strong multicollinearity problems or that the design matrix is singular.\n"
     ]
    }
   ],
   "source": [
    "# full model\n",
    "model1 = ols(\n",
    "    formula='numbr_likes ~ number_comments + following + followers + n_posts + is_business_account + lng + lat + is_photo + is_video',\n",
    "    data=df_train\n",
    ").fit()\n",
    "\n",
    "print(model1.summary())"
   ]
  },
  {
   "cell_type": "code",
   "execution_count": 108,
   "id": "caab9bec",
   "metadata": {
    "collapsed": true
   },
   "outputs": [
    {
     "name": "stdout",
     "output_type": "stream",
     "text": [
      "                            OLS Regression Results                            \n",
      "==============================================================================\n",
      "Dep. Variable:            numbr_likes   R-squared:                       0.391\n",
      "Model:                            OLS   Adj. R-squared:                  0.391\n",
      "Method:                 Least Squares   F-statistic:                     2090.\n",
      "Date:                Sat, 01 Oct 2022   Prob (F-statistic):               0.00\n",
      "Time:                        15:02:03   Log-Likelihood:            -2.5010e+05\n",
      "No. Observations:               22820   AIC:                         5.002e+05\n",
      "Df Residuals:                   22812   BIC:                         5.003e+05\n",
      "Df Model:                           7                                         \n",
      "Covariance Type:            nonrobust                                         \n",
      "=======================================================================================\n",
      "                          coef    std err          t      P>|t|      [0.025      0.975]\n",
      "---------------------------------------------------------------------------------------\n",
      "Intercept            2212.4156    236.439      9.357      0.000    1748.980    2675.852\n",
      "number_comments         4.4666      0.121     36.918      0.000       4.230       4.704\n",
      "following              -0.0022      0.004     -0.508      0.611      -0.011       0.006\n",
      "followers               0.0106      0.000    104.620      0.000       0.010       0.011\n",
      "n_posts                -0.4668      0.037    -12.594      0.000      -0.539      -0.394\n",
      "is_business_account -1027.3107    186.862     -5.498      0.000   -1393.572    -661.049\n",
      "lat                    -1.4637      4.520     -0.324      0.746     -10.324       7.396\n",
      "is_photo             1104.2351    204.458      5.401      0.000     703.483    1504.987\n",
      "is_video             1108.1805    379.474      2.920      0.004     364.386    1851.975\n",
      "==============================================================================\n",
      "Omnibus:                    32545.436   Durbin-Watson:                   1.988\n",
      "Prob(Omnibus):                  0.000   Jarque-Bera (JB):         61986808.268\n",
      "Skew:                           7.788   Prob(JB):                         0.00\n",
      "Kurtosis:                     257.852   Cond. No.                     8.21e+21\n",
      "==============================================================================\n",
      "\n",
      "Notes:\n",
      "[1] Standard Errors assume that the covariance matrix of the errors is correctly specified.\n",
      "[2] The smallest eigenvalue is 3.32e-28. This might indicate that there are\n",
      "strong multicollinearity problems or that the design matrix is singular.\n"
     ]
    }
   ],
   "source": [
    "# longitude removed\n",
    "model2 = ols(\n",
    "    formula='numbr_likes ~ number_comments + following + followers + n_posts + is_business_account + lat + is_photo + is_video',\n",
    "    data=df_train\n",
    ").fit()\n",
    "\n",
    "print(model2.summary())"
   ]
  },
  {
   "cell_type": "code",
   "execution_count": 109,
   "id": "9c38a1c9",
   "metadata": {
    "collapsed": true
   },
   "outputs": [
    {
     "name": "stdout",
     "output_type": "stream",
     "text": [
      "                            OLS Regression Results                            \n",
      "==============================================================================\n",
      "Dep. Variable:            numbr_likes   R-squared:                       0.391\n",
      "Model:                            OLS   Adj. R-squared:                  0.391\n",
      "Method:                 Least Squares   F-statistic:                     2438.\n",
      "Date:                Sat, 01 Oct 2022   Prob (F-statistic):               0.00\n",
      "Time:                        15:03:11   Log-Likelihood:            -2.5010e+05\n",
      "No. Observations:               22820   AIC:                         5.002e+05\n",
      "Df Residuals:                   22813   BIC:                         5.003e+05\n",
      "Df Model:                           6                                         \n",
      "Covariance Type:            nonrobust                                         \n",
      "=======================================================================================\n",
      "                          coef    std err          t      P>|t|      [0.025      0.975]\n",
      "---------------------------------------------------------------------------------------\n",
      "Intercept            2175.9749    207.936     10.465      0.000    1768.406    2583.544\n",
      "number_comments         4.4665      0.121     36.917      0.000       4.229       4.704\n",
      "following              -0.0022      0.004     -0.502      0.616      -0.011       0.006\n",
      "followers               0.0106      0.000    104.797      0.000       0.010       0.011\n",
      "n_posts                -0.4663      0.037    -12.592      0.000      -0.539      -0.394\n",
      "is_business_account -1031.0391    186.503     -5.528      0.000   -1396.598    -665.481\n",
      "is_photo             1085.8874    196.446      5.528      0.000     700.839    1470.936\n",
      "is_video             1090.0875    375.330      2.904      0.004     354.415    1825.760\n",
      "==============================================================================\n",
      "Omnibus:                    32543.704   Durbin-Watson:                   1.988\n",
      "Prob(Omnibus):                  0.000   Jarque-Bera (JB):         61988301.250\n",
      "Skew:                           7.787   Prob(JB):                         0.00\n",
      "Kurtosis:                     257.855   Cond. No.                     6.69e+19\n",
      "==============================================================================\n",
      "\n",
      "Notes:\n",
      "[1] Standard Errors assume that the covariance matrix of the errors is correctly specified.\n",
      "[2] The smallest eigenvalue is 4.99e-24. This might indicate that there are\n",
      "strong multicollinearity problems or that the design matrix is singular.\n"
     ]
    }
   ],
   "source": [
    "# latitude removed\n",
    "model3 = ols(\n",
    "    formula='numbr_likes ~ number_comments + following + followers + n_posts + is_business_account + is_photo + is_video',\n",
    "    data=df_train\n",
    ").fit()\n",
    "\n",
    "print(model3.summary())"
   ]
  },
  {
   "cell_type": "code",
   "execution_count": 110,
   "id": "36503c5e",
   "metadata": {
    "collapsed": true
   },
   "outputs": [
    {
     "name": "stdout",
     "output_type": "stream",
     "text": [
      "                            OLS Regression Results                            \n",
      "==============================================================================\n",
      "Dep. Variable:            numbr_likes   R-squared:                       0.391\n",
      "Model:                            OLS   Adj. R-squared:                  0.391\n",
      "Method:                 Least Squares   F-statistic:                     2926.\n",
      "Date:                Sat, 01 Oct 2022   Prob (F-statistic):               0.00\n",
      "Time:                        15:04:32   Log-Likelihood:            -2.5010e+05\n",
      "No. Observations:               22820   AIC:                         5.002e+05\n",
      "Df Residuals:                   22814   BIC:                         5.003e+05\n",
      "Df Model:                           5                                         \n",
      "Covariance Type:            nonrobust                                         \n",
      "=======================================================================================\n",
      "                          coef    std err          t      P>|t|      [0.025      0.975]\n",
      "---------------------------------------------------------------------------------------\n",
      "Intercept            2173.5548    207.877     10.456      0.000    1766.102    2581.007\n",
      "number_comments         4.4664      0.121     36.917      0.000       4.229       4.704\n",
      "followers               0.0106      0.000    104.799      0.000       0.010       0.011\n",
      "n_posts                -0.4663      0.037    -12.592      0.000      -0.539      -0.394\n",
      "is_business_account -1030.3257    186.494     -5.525      0.000   -1395.868    -664.784\n",
      "is_photo             1084.4426    196.422      5.521      0.000     699.442    1469.443\n",
      "is_video             1089.1122    375.319      2.902      0.004     353.461    1824.763\n",
      "==============================================================================\n",
      "Omnibus:                    32544.140   Durbin-Watson:                   1.988\n",
      "Prob(Omnibus):                  0.000   Jarque-Bera (JB):         61987557.437\n",
      "Skew:                           7.787   Prob(JB):                         0.00\n",
      "Kurtosis:                     257.854   Cond. No.                     6.69e+19\n",
      "==============================================================================\n",
      "\n",
      "Notes:\n",
      "[1] Standard Errors assume that the covariance matrix of the errors is correctly specified.\n",
      "[2] The smallest eigenvalue is 4.99e-24. This might indicate that there are\n",
      "strong multicollinearity problems or that the design matrix is singular.\n"
     ]
    }
   ],
   "source": [
    "# following column removed\n",
    "model4 = ols(\n",
    "    formula='numbr_likes ~ number_comments + followers + n_posts + is_business_account + is_photo + is_video',\n",
    "    data=df_train\n",
    ").fit()\n",
    "\n",
    "print(model4.summary())"
   ]
  },
  {
   "cell_type": "code",
   "execution_count": 111,
   "id": "f36add84",
   "metadata": {},
   "outputs": [
    {
     "name": "stdout",
     "output_type": "stream",
     "text": [
      "500222.50396426226 500220.546001416 500218.650894842 500216.90274529054\n"
     ]
    }
   ],
   "source": [
    "# verify that AIC decreases after each step\n",
    "print(model1.aic, model2.aic, model3.aic, model4.aic)"
   ]
  },
  {
   "cell_type": "markdown",
   "id": "a14e0260",
   "metadata": {},
   "source": [
    "The features removed are `lng`, `lat`, and `following` respectively at each step. "
   ]
  },
  {
   "cell_type": "code",
   "execution_count": 113,
   "id": "929f1ac5",
   "metadata": {},
   "outputs": [],
   "source": [
    "X_selected = X[['number_comments', 'followers', 'n_posts', 'is_business_account', 'is_photo', 'is_video']]"
   ]
  },
  {
   "cell_type": "code",
   "execution_count": 142,
   "id": "f53cf8e7",
   "metadata": {},
   "outputs": [],
   "source": [
    "X_train_selected = X_train[['number_comments', 'followers', 'n_posts', 'is_business_account', 'is_photo', 'is_video']]\n",
    "X_val_selected = X_val[['number_comments', 'followers', 'n_posts', 'is_business_account', 'is_photo', 'is_video']]"
   ]
  },
  {
   "cell_type": "code",
   "execution_count": 150,
   "id": "a9d0c27e",
   "metadata": {},
   "outputs": [
    {
     "data": {
      "text/plain": [
       "13205.434852801614"
      ]
     },
     "execution_count": 150,
     "metadata": {},
     "output_type": "execute_result"
    }
   ],
   "source": [
    "lr_selected = LinearRegression()\n",
    "lr_selected.fit(X_train_selected, y_train)\n",
    "pred_lr_selected = lr_selected.predict(X_val_selected)\n",
    "rmse_lr_selected = mean_squared_error(y_val, pred_lr_selected, squared=False)\n",
    "rmse_lr_selected"
   ]
  },
  {
   "cell_type": "markdown",
   "id": "9f8dd26b",
   "metadata": {},
   "source": [
    "#### Linear regression with correlated features"
   ]
  },
  {
   "cell_type": "markdown",
   "id": "314fb826",
   "metadata": {},
   "source": [
    "The next model is fitted by selecting the three features that have a correlation coefficient >= 0.1 with the target variable."
   ]
  },
  {
   "cell_type": "code",
   "execution_count": 190,
   "id": "75052810",
   "metadata": {},
   "outputs": [],
   "source": [
    "X_train_selected2 = X_train[['number_comments', 'followers', 'n_posts']]\n",
    "X_val_selected2 = X_val[['number_comments', 'followers', 'n_posts']]"
   ]
  },
  {
   "cell_type": "code",
   "execution_count": 191,
   "id": "f522017a",
   "metadata": {},
   "outputs": [
    {
     "data": {
      "text/plain": [
       "13216.749584150262"
      ]
     },
     "execution_count": 191,
     "metadata": {},
     "output_type": "execute_result"
    }
   ],
   "source": [
    "lr_selected2 = LinearRegression()\n",
    "lr_selected2.fit(X_train_selected2, y_train)\n",
    "pred_lr_selected2 = lr_selected2.predict(X_val_selected2)\n",
    "rmse_lr_selected2 = mean_squared_error(y_val, pred_lr_selected2, squared=False)\n",
    "rmse_lr_selected2"
   ]
  },
  {
   "cell_type": "markdown",
   "id": "f75a103a",
   "metadata": {},
   "source": [
    "#### Linear regression model with power law transformation"
   ]
  },
  {
   "cell_type": "markdown",
   "id": "01aa84a0",
   "metadata": {},
   "source": [
    "Based on the relationship between followers and number of likes, this model applies the power law between the two variables."
   ]
  },
  {
   "cell_type": "code",
   "execution_count": 24,
   "id": "56b57603",
   "metadata": {},
   "outputs": [
    {
     "data": {
      "text/html": [
       "<div>\n",
       "<style scoped>\n",
       "    .dataframe tbody tr th:only-of-type {\n",
       "        vertical-align: middle;\n",
       "    }\n",
       "\n",
       "    .dataframe tbody tr th {\n",
       "        vertical-align: top;\n",
       "    }\n",
       "\n",
       "    .dataframe thead th {\n",
       "        text-align: right;\n",
       "    }\n",
       "</style>\n",
       "<table border=\"1\" class=\"dataframe\">\n",
       "  <thead>\n",
       "    <tr style=\"text-align: right;\">\n",
       "      <th></th>\n",
       "      <th>number_comments</th>\n",
       "      <th>following</th>\n",
       "      <th>followers</th>\n",
       "      <th>n_posts</th>\n",
       "      <th>is_business_account</th>\n",
       "      <th>lng</th>\n",
       "      <th>lat</th>\n",
       "      <th>numbr_likes</th>\n",
       "      <th>is_photo</th>\n",
       "      <th>is_video</th>\n",
       "      <th>log_followers</th>\n",
       "      <th>log_numbr_likes</th>\n",
       "    </tr>\n",
       "  </thead>\n",
       "  <tbody>\n",
       "    <tr>\n",
       "      <th>0</th>\n",
       "      <td>78</td>\n",
       "      <td>420</td>\n",
       "      <td>594895</td>\n",
       "      <td>3612</td>\n",
       "      <td>1</td>\n",
       "      <td>2</td>\n",
       "      <td>41</td>\n",
       "      <td>4985</td>\n",
       "      <td>1.0</td>\n",
       "      <td>0.0</td>\n",
       "      <td>13.296140</td>\n",
       "      <td>8.514189</td>\n",
       "    </tr>\n",
       "    <tr>\n",
       "      <th>1</th>\n",
       "      <td>2</td>\n",
       "      <td>486</td>\n",
       "      <td>428</td>\n",
       "      <td>95</td>\n",
       "      <td>0</td>\n",
       "      <td>120</td>\n",
       "      <td>11</td>\n",
       "      <td>57</td>\n",
       "      <td>1.0</td>\n",
       "      <td>0.0</td>\n",
       "      <td>6.059123</td>\n",
       "      <td>4.043051</td>\n",
       "    </tr>\n",
       "    <tr>\n",
       "      <th>2</th>\n",
       "      <td>15</td>\n",
       "      <td>5378</td>\n",
       "      <td>36618</td>\n",
       "      <td>1259</td>\n",
       "      <td>1</td>\n",
       "      <td>11</td>\n",
       "      <td>51</td>\n",
       "      <td>1576</td>\n",
       "      <td>1.0</td>\n",
       "      <td>0.0</td>\n",
       "      <td>10.508295</td>\n",
       "      <td>7.362645</td>\n",
       "    </tr>\n",
       "    <tr>\n",
       "      <th>3</th>\n",
       "      <td>5</td>\n",
       "      <td>62</td>\n",
       "      <td>126</td>\n",
       "      <td>39</td>\n",
       "      <td>0</td>\n",
       "      <td>-118</td>\n",
       "      <td>52</td>\n",
       "      <td>29</td>\n",
       "      <td>1.0</td>\n",
       "      <td>0.0</td>\n",
       "      <td>4.836282</td>\n",
       "      <td>3.367296</td>\n",
       "    </tr>\n",
       "    <tr>\n",
       "      <th>4</th>\n",
       "      <td>11</td>\n",
       "      <td>544</td>\n",
       "      <td>45450</td>\n",
       "      <td>1251</td>\n",
       "      <td>1</td>\n",
       "      <td>30</td>\n",
       "      <td>59</td>\n",
       "      <td>1487</td>\n",
       "      <td>1.0</td>\n",
       "      <td>0.0</td>\n",
       "      <td>10.724368</td>\n",
       "      <td>7.304516</td>\n",
       "    </tr>\n",
       "  </tbody>\n",
       "</table>\n",
       "</div>"
      ],
      "text/plain": [
       "   number_comments  following  followers  n_posts  is_business_account  lng  \\\n",
       "0               78        420     594895     3612                    1    2   \n",
       "1                2        486        428       95                    0  120   \n",
       "2               15       5378      36618     1259                    1   11   \n",
       "3                5         62        126       39                    0 -118   \n",
       "4               11        544      45450     1251                    1   30   \n",
       "\n",
       "   lat  numbr_likes  is_photo  is_video  log_followers  log_numbr_likes  \n",
       "0   41         4985       1.0       0.0      13.296140         8.514189  \n",
       "1   11           57       1.0       0.0       6.059123         4.043051  \n",
       "2   51         1576       1.0       0.0      10.508295         7.362645  \n",
       "3   52           29       1.0       0.0       4.836282         3.367296  \n",
       "4   59         1487       1.0       0.0      10.724368         7.304516  "
      ]
     },
     "execution_count": 24,
     "metadata": {},
     "output_type": "execute_result"
    }
   ],
   "source": [
    "# create log variables\n",
    "df_train['log_followers'] = np.log(df_train['followers'])\n",
    "df_train['log_numbr_likes'] = np.log(df_train['numbr_likes'])\n",
    "df_train.head()"
   ]
  },
  {
   "cell_type": "code",
   "execution_count": 65,
   "id": "33c857a3",
   "metadata": {},
   "outputs": [
    {
     "data": {
      "text/plain": [
       "count    22820.000000\n",
       "mean         9.936468\n",
       "std          2.562858\n",
       "min          1.386294\n",
       "25%          7.787797\n",
       "50%         10.257344\n",
       "75%         11.829468\n",
       "max         17.380518\n",
       "Name: log_followers, dtype: float64"
      ]
     },
     "execution_count": 65,
     "metadata": {},
     "output_type": "execute_result"
    }
   ],
   "source": [
    "X_log = df_train['log_followers']\n",
    "X_log.describe()"
   ]
  },
  {
   "cell_type": "code",
   "execution_count": 66,
   "id": "6534fb49",
   "metadata": {},
   "outputs": [],
   "source": [
    "y_log = df_train['log_numbr_likes']"
   ]
  },
  {
   "cell_type": "code",
   "execution_count": 42,
   "id": "72dc9f2d",
   "metadata": {},
   "outputs": [
    {
     "data": {
      "text/plain": [
       "count    2.282000e+04\n",
       "mean             -inf\n",
       "std               NaN\n",
       "min              -inf\n",
       "25%      5.345914e+00\n",
       "50%      7.211557e+00\n",
       "75%      8.051022e+00\n",
       "max      1.320694e+01\n",
       "Name: log_numbr_likes, dtype: float64"
      ]
     },
     "execution_count": 42,
     "metadata": {},
     "output_type": "execute_result"
    }
   ],
   "source": [
    "y_log.describe()"
   ]
  },
  {
   "cell_type": "code",
   "execution_count": 38,
   "id": "b0e0a188",
   "metadata": {},
   "outputs": [
    {
     "data": {
      "text/plain": [
       "1334    -inf\n",
       "1391    -inf\n",
       "2332    -inf\n",
       "2583    -inf\n",
       "3483    -inf\n",
       "3734    -inf\n",
       "3968    -inf\n",
       "3988    -inf\n",
       "4010    -inf\n",
       "6715    -inf\n",
       "6778    -inf\n",
       "7641    -inf\n",
       "9139    -inf\n",
       "10305   -inf\n",
       "11827   -inf\n",
       "12330   -inf\n",
       "13763   -inf\n",
       "16875   -inf\n",
       "18086   -inf\n",
       "18271   -inf\n",
       "21690   -inf\n",
       "Name: log_numbr_likes, dtype: float64"
      ]
     },
     "execution_count": 38,
     "metadata": {},
     "output_type": "execute_result"
    }
   ],
   "source": [
    "# examine target variables which are -inf\n",
    "y_log.loc[y_log == float(\"-inf\")]"
   ]
  },
  {
   "cell_type": "code",
   "execution_count": 67,
   "id": "f2e34ff6",
   "metadata": {},
   "outputs": [
    {
     "data": {
      "text/plain": [
       "Int64Index([ 1334,  1391,  2332,  2583,  3483,  3734,  3968,  3988,  4010,\n",
       "             6715,  6778,  7641,  9139, 10305, 11827, 12330, 13763, 16875,\n",
       "            18086, 18271, 21690],\n",
       "           dtype='int64')"
      ]
     },
     "execution_count": 67,
     "metadata": {},
     "output_type": "execute_result"
    }
   ],
   "source": [
    "# obtain indices of rows which contain -inf\n",
    "inf_index = y_log.loc[y_log == float(\"-inf\")].index\n",
    "inf_index"
   ]
  },
  {
   "cell_type": "code",
   "execution_count": 68,
   "id": "6082ce2e",
   "metadata": {},
   "outputs": [],
   "source": [
    "# drop rows which contain -inf in the target variable\n",
    "y_log.drop([i for i in inf_index], inplace=True)"
   ]
  },
  {
   "cell_type": "code",
   "execution_count": 69,
   "id": "8ab8de02",
   "metadata": {},
   "outputs": [
    {
     "data": {
      "text/plain": [
       "Series([], Name: log_numbr_likes, dtype: float64)"
      ]
     },
     "execution_count": 69,
     "metadata": {},
     "output_type": "execute_result"
    }
   ],
   "source": [
    "# check that the rows with -inf have been dropped\n",
    "y_log.loc[y_log == float(\"-inf\")]"
   ]
  },
  {
   "cell_type": "code",
   "execution_count": 70,
   "id": "fa96f739",
   "metadata": {},
   "outputs": [
    {
     "data": {
      "text/plain": [
       "22799"
      ]
     },
     "execution_count": 70,
     "metadata": {},
     "output_type": "execute_result"
    }
   ],
   "source": [
    "len(y_log)"
   ]
  },
  {
   "cell_type": "code",
   "execution_count": 71,
   "id": "340fbe44",
   "metadata": {},
   "outputs": [],
   "source": [
    "# drop those rows in predictor variables \n",
    "X_log.drop([i for i in inf_index], inplace=True)"
   ]
  },
  {
   "cell_type": "code",
   "execution_count": 72,
   "id": "3504c733",
   "metadata": {},
   "outputs": [
    {
     "data": {
      "text/plain": [
       "22799"
      ]
     },
     "execution_count": 72,
     "metadata": {},
     "output_type": "execute_result"
    }
   ],
   "source": [
    "# check that the rows have been dropped\n",
    "len(X_log)"
   ]
  },
  {
   "cell_type": "code",
   "execution_count": 73,
   "id": "21818cca",
   "metadata": {},
   "outputs": [],
   "source": [
    "# perform train-test split\n",
    "X_log = np.array(X_log).reshape((-1, 1))\n",
    "\n",
    "X_log_train, X_log_val, y_log_train, y_log_val = train_test_split(X_log, y_log, train_size=0.8, random_state=42)"
   ]
  },
  {
   "cell_type": "code",
   "execution_count": 102,
   "id": "48236e56",
   "metadata": {},
   "outputs": [
    {
     "data": {
      "text/plain": [
       "12107.128584114911"
      ]
     },
     "execution_count": 102,
     "metadata": {},
     "output_type": "execute_result"
    }
   ],
   "source": [
    "lr_log = LinearRegression()\n",
    "lr_log.fit(X_log_train, y_log_train)\n",
    "pred_log = lr_log.predict(X_log_val)\n",
    "rmse_log = mean_squared_error(np.exp(y_log_val), np.exp(pred_log), squared=False)\n",
    "rmse_log"
   ]
  },
  {
   "cell_type": "code",
   "execution_count": 99,
   "id": "642868a4",
   "metadata": {},
   "outputs": [
    {
     "data": {
      "image/png": "[encoded data removed]",
      "text/plain": [
       "<Figure size 432x288 with 1 Axes>"
      ]
     },
     "metadata": {
      "needs_background": "light"
     },
     "output_type": "display_data"
    }
   ],
   "source": [
    "plt.figure()\n",
    "plt.scatter(X_log_val, y_log_val, color='red')\n",
    "plt.plot(X_log_val, pred_log, color='green')\n",
    "plt.xlabel('log(followers)')\n",
    "plt.ylabel('log(number of likes)')\n",
    "plt.show()"
   ]
  },
  {
   "cell_type": "markdown",
   "id": "6b932b4c",
   "metadata": {},
   "source": [
    "#### Elastic Net"
   ]
  },
  {
   "cell_type": "markdown",
   "id": "1ba8693c",
   "metadata": {},
   "source": [
    "This model searches for the best l1_ratio and alpha values, and implement Elastic Net."
   ]
  },
  {
   "cell_type": "code",
   "execution_count": 95,
   "id": "fa0fd8c5",
   "metadata": {},
   "outputs": [
    {
     "data": {
      "text/html": [
       "<div>\n",
       "<style scoped>\n",
       "    .dataframe tbody tr th:only-of-type {\n",
       "        vertical-align: middle;\n",
       "    }\n",
       "\n",
       "    .dataframe tbody tr th {\n",
       "        vertical-align: top;\n",
       "    }\n",
       "\n",
       "    .dataframe thead th {\n",
       "        text-align: right;\n",
       "    }\n",
       "</style>\n",
       "<table border=\"1\" class=\"dataframe\">\n",
       "  <thead>\n",
       "    <tr style=\"text-align: right;\">\n",
       "      <th></th>\n",
       "      <th>0</th>\n",
       "      <th>1</th>\n",
       "      <th>2</th>\n",
       "      <th>3</th>\n",
       "      <th>4</th>\n",
       "      <th>5</th>\n",
       "      <th>6</th>\n",
       "      <th>7</th>\n",
       "      <th>8</th>\n",
       "    </tr>\n",
       "  </thead>\n",
       "  <tbody>\n",
       "    <tr>\n",
       "      <th>mean</th>\n",
       "      <td>0.0000</td>\n",
       "      <td>-0.0000</td>\n",
       "      <td>0.0000</td>\n",
       "      <td>0.0000</td>\n",
       "      <td>-0.0000</td>\n",
       "      <td>0.0000</td>\n",
       "      <td>0.0000</td>\n",
       "      <td>0.0000</td>\n",
       "      <td>0.0000</td>\n",
       "    </tr>\n",
       "    <tr>\n",
       "      <th>std</th>\n",
       "      <td>1.0000</td>\n",
       "      <td>1.0000</td>\n",
       "      <td>1.0000</td>\n",
       "      <td>1.0000</td>\n",
       "      <td>1.0000</td>\n",
       "      <td>1.0000</td>\n",
       "      <td>1.0000</td>\n",
       "      <td>1.0000</td>\n",
       "      <td>1.0000</td>\n",
       "    </tr>\n",
       "  </tbody>\n",
       "</table>\n",
       "</div>"
      ],
      "text/plain": [
       "          0       1      2      3       4      5      6      7      8\n",
       "mean 0.0000 -0.0000 0.0000 0.0000 -0.0000 0.0000 0.0000 0.0000 0.0000\n",
       "std  1.0000  1.0000 1.0000 1.0000  1.0000 1.0000 1.0000 1.0000 1.0000"
      ]
     },
     "execution_count": 95,
     "metadata": {},
     "output_type": "execute_result"
    }
   ],
   "source": [
    "# scale predictors to have mean of 0 and standard deviation of 1\n",
    "scaler = StandardScaler()\n",
    "X_std = pd.DataFrame(scaler.fit_transform(X))\n",
    "\n",
    "pd.options.display.float_format = '{:,.4f}'.format\n",
    "X_std.describe().loc[['mean', 'std']]"
   ]
  },
  {
   "cell_type": "code",
   "execution_count": 144,
   "id": "479569aa",
   "metadata": {},
   "outputs": [],
   "source": [
    "scaler = StandardScaler()\n",
    "X_train_std = pd.DataFrame(scaler.fit_transform(X_train))\n",
    "X_val_std = pd.DataFrame(scaler.fit_transform(X_val))"
   ]
  },
  {
   "cell_type": "code",
   "execution_count": 98,
   "id": "81890ab8",
   "metadata": {},
   "outputs": [],
   "source": [
    "# define range of alphas (l1_ratio) and lambdas (alpha) to be passed to the model\n",
    "l1_ratio = [.1, .3, .5, .7, .9, .95, .99, 1]\n",
    "alphas = [1e-5, 1e-4, 1e-3, 1e-2, 1e-1, 0.0, 1.0, 10.0, 100.0]"
   ]
  },
  {
   "cell_type": "code",
   "execution_count": 146,
   "id": "9c9328d5",
   "metadata": {},
   "outputs": [
    {
     "data": {
      "text/plain": [
       "13906.180527457604"
      ]
     },
     "execution_count": 146,
     "metadata": {},
     "output_type": "execute_result"
    }
   ],
   "source": [
    "elastic_net_model = ElasticNetCV(l1_ratio=l1_ratio, alphas=alphas, max_iter=2000)\n",
    "elastic_net_model.fit(X_train_std, y_train)\n",
    "pred_en = elastic_net_model.predict(X_val_std)\n",
    "rmse_en = mean_squared_error(y_val, pred_en, squared=False)\n",
    "rmse_en"
   ]
  },
  {
   "cell_type": "markdown",
   "id": "f1ca7615",
   "metadata": {},
   "source": [
    "#### Principal Component Regression & Elastic Net"
   ]
  },
  {
   "cell_type": "markdown",
   "id": "dc29057a",
   "metadata": {},
   "source": [
    "This model implements Principal Component Regression and Elastic Net."
   ]
  },
  {
   "cell_type": "code",
   "execution_count": 198,
   "id": "b421920f",
   "metadata": {},
   "outputs": [],
   "source": [
    "scaler = StandardScaler()\n",
    "pca = PCA()\n",
    "elasticnet = ElasticNet()\n",
    "\n",
    "pipeline = Pipeline(steps=[('scaler', scaler), ('pca', pca), ('elasticnet', elasticnet)])"
   ]
  },
  {
   "cell_type": "code",
   "execution_count": 205,
   "id": "433742b9",
   "metadata": {},
   "outputs": [],
   "source": [
    "n_components = list(range(1,X.shape[1]+1,1))\n",
    "l1_ratio = [.1, .3, .5, .7, .8, .9, .95, .99, 1]\n",
    "alphas = [1e-5, 1e-4, 1e-3, 1e-2, 1e-1, 0.0, 1.0, 10.0, 100.0]\n",
    "\n",
    "parameters = dict(pca__n_components=n_components, elasticnet__l1_ratio=l1_ratio, elasticnet__alpha=alphas)"
   ]
  },
  {
   "cell_type": "code",
   "execution_count": 206,
   "id": "e7673870",
   "metadata": {},
   "outputs": [
    {
     "data": {
      "text/html": [
       "<style>#sk-container-id-2 {color: black;background-color: white;}#sk-container-id-2 pre{padding: 0;}#sk-container-id-2 div.sk-toggleable {background-color: white;}#sk-container-id-2 label.sk-toggleable__label {cursor: pointer;display: block;width: 100%;margin-bottom: 0;padding: 0.3em;box-sizing: border-box;text-align: center;}#sk-container-id-2 label.sk-toggleable__label-arrow:before {content: \"▸\";float: left;margin-right: 0.25em;color: #696969;}#sk-container-id-2 label.sk-toggleable__label-arrow:hover:before {color: black;}#sk-container-id-2 div.sk-estimator:hover label.sk-toggleable__label-arrow:before {color: black;}#sk-container-id-2 div.sk-toggleable__content {max-height: 0;max-width: 0;overflow: hidden;text-align: left;background-color: #f0f8ff;}#sk-container-id-2 div.sk-toggleable__content pre {margin: 0.2em;color: black;border-radius: 0.25em;background-color: #f0f8ff;}#sk-container-id-2 input.sk-toggleable__control:checked~div.sk-toggleable__content {max-height: 200px;max-width: 100%;overflow: auto;}#sk-container-id-2 input.sk-toggleable__control:checked~label.sk-toggleable__label-arrow:before {content: \"▾\";}#sk-container-id-2 div.sk-estimator input.sk-toggleable__control:checked~label.sk-toggleable__label {background-color: #d4ebff;}#sk-container-id-2 div.sk-label input.sk-toggleable__control:checked~label.sk-toggleable__label {background-color: #d4ebff;}#sk-container-id-2 input.sk-hidden--visually {border: 0;clip: rect(1px 1px 1px 1px);clip: rect(1px, 1px, 1px, 1px);height: 1px;margin: -1px;overflow: hidden;padding: 0;position: absolute;width: 1px;}#sk-container-id-2 div.sk-estimator {font-family: monospace;background-color: #f0f8ff;border: 1px dotted black;border-radius: 0.25em;box-sizing: border-box;margin-bottom: 0.5em;}#sk-container-id-2 div.sk-estimator:hover {background-color: #d4ebff;}#sk-container-id-2 div.sk-parallel-item::after {content: \"\";width: 100%;border-bottom: 1px solid gray;flex-grow: 1;}#sk-container-id-2 div.sk-label:hover label.sk-toggleable__label {background-color: #d4ebff;}#sk-container-id-2 div.sk-serial::before {content: \"\";position: absolute;border-left: 1px solid gray;box-sizing: border-box;top: 0;bottom: 0;left: 50%;z-index: 0;}#sk-container-id-2 div.sk-serial {display: flex;flex-direction: column;align-items: center;background-color: white;padding-right: 0.2em;padding-left: 0.2em;position: relative;}#sk-container-id-2 div.sk-item {position: relative;z-index: 1;}#sk-container-id-2 div.sk-parallel {display: flex;align-items: stretch;justify-content: center;background-color: white;position: relative;}#sk-container-id-2 div.sk-item::before, #sk-container-id-2 div.sk-parallel-item::before {content: \"\";position: absolute;border-left: 1px solid gray;box-sizing: border-box;top: 0;bottom: 0;left: 50%;z-index: -1;}#sk-container-id-2 div.sk-parallel-item {display: flex;flex-direction: column;z-index: 1;position: relative;background-color: white;}#sk-container-id-2 div.sk-parallel-item:first-child::after {align-self: flex-end;width: 50%;}#sk-container-id-2 div.sk-parallel-item:last-child::after {align-self: flex-start;width: 50%;}#sk-container-id-2 div.sk-parallel-item:only-child::after {width: 0;}#sk-container-id-2 div.sk-dashed-wrapped {border: 1px dashed gray;margin: 0 0.4em 0.5em 0.4em;box-sizing: border-box;padding-bottom: 0.4em;background-color: white;}#sk-container-id-2 div.sk-label label {font-family: monospace;font-weight: bold;display: inline-block;line-height: 1.2em;}#sk-container-id-2 div.sk-label-container {text-align: center;}#sk-container-id-2 div.sk-container {/* jupyter's `normalize.less` sets `[hidden] { display: none; }` but bootstrap.min.css set `[hidden] { display: none !important; }` so we also need the `!important` here to be able to override the default hidden behavior on the sphinx rendered scikit-learn.org. See: https://github.com/scikit-learn/scikit-learn/issues/21755 */display: inline-block !important;position: relative;}#sk-container-id-2 div.sk-text-repr-fallback {display: none;}</style><div id=\"sk-container-id-2\" class=\"sk-top-container\"><div class=\"sk-text-repr-fallback\"><pre>GridSearchCV(estimator=Pipeline(steps=[(&#x27;scaler&#x27;, StandardScaler()),\n",
       "                                       (&#x27;pca&#x27;, PCA()),\n",
       "                                       (&#x27;elasticnet&#x27;, ElasticNet())]),\n",
       "             param_grid={&#x27;elasticnet__alpha&#x27;: [1e-05, 0.0001, 0.001, 0.01, 0.1,\n",
       "                                               0.0, 1.0, 10.0, 100.0],\n",
       "                         &#x27;elasticnet__l1_ratio&#x27;: [0.1, 0.3, 0.5, 0.7, 0.8, 0.9,\n",
       "                                                  0.95, 0.99, 1],\n",
       "                         &#x27;pca__n_components&#x27;: [1, 2, 3, 4, 5, 6, 7, 8, 9]})</pre><b>In a Jupyter environment, please rerun this cell to show the HTML representation or trust the notebook. <br />On GitHub, the HTML representation is unable to render, please try loading this page with nbviewer.org.</b></div><div class=\"sk-container\" hidden><div class=\"sk-item sk-dashed-wrapped\"><div class=\"sk-label-container\"><div class=\"sk-label sk-toggleable\"><input class=\"sk-toggleable__control sk-hidden--visually\" id=\"sk-estimator-id-6\" type=\"checkbox\" ><label for=\"sk-estimator-id-6\" class=\"sk-toggleable__label sk-toggleable__label-arrow\">GridSearchCV</label><div class=\"sk-toggleable__content\"><pre>GridSearchCV(estimator=Pipeline(steps=[(&#x27;scaler&#x27;, StandardScaler()),\n",
       "                                       (&#x27;pca&#x27;, PCA()),\n",
       "                                       (&#x27;elasticnet&#x27;, ElasticNet())]),\n",
       "             param_grid={&#x27;elasticnet__alpha&#x27;: [1e-05, 0.0001, 0.001, 0.01, 0.1,\n",
       "                                               0.0, 1.0, 10.0, 100.0],\n",
       "                         &#x27;elasticnet__l1_ratio&#x27;: [0.1, 0.3, 0.5, 0.7, 0.8, 0.9,\n",
       "                                                  0.95, 0.99, 1],\n",
       "                         &#x27;pca__n_components&#x27;: [1, 2, 3, 4, 5, 6, 7, 8, 9]})</pre></div></div></div><div class=\"sk-parallel\"><div class=\"sk-parallel-item\"><div class=\"sk-item\"><div class=\"sk-label-container\"><div class=\"sk-label sk-toggleable\"><input class=\"sk-toggleable__control sk-hidden--visually\" id=\"sk-estimator-id-7\" type=\"checkbox\" ><label for=\"sk-estimator-id-7\" class=\"sk-toggleable__label sk-toggleable__label-arrow\">estimator: Pipeline</label><div class=\"sk-toggleable__content\"><pre>Pipeline(steps=[(&#x27;scaler&#x27;, StandardScaler()), (&#x27;pca&#x27;, PCA()),\n",
       "                (&#x27;elasticnet&#x27;, ElasticNet())])</pre></div></div></div><div class=\"sk-serial\"><div class=\"sk-item\"><div class=\"sk-serial\"><div class=\"sk-item\"><div class=\"sk-estimator sk-toggleable\"><input class=\"sk-toggleable__control sk-hidden--visually\" id=\"sk-estimator-id-8\" type=\"checkbox\" ><label for=\"sk-estimator-id-8\" class=\"sk-toggleable__label sk-toggleable__label-arrow\">StandardScaler</label><div class=\"sk-toggleable__content\"><pre>StandardScaler()</pre></div></div></div><div class=\"sk-item\"><div class=\"sk-estimator sk-toggleable\"><input class=\"sk-toggleable__control sk-hidden--visually\" id=\"sk-estimator-id-9\" type=\"checkbox\" ><label for=\"sk-estimator-id-9\" class=\"sk-toggleable__label sk-toggleable__label-arrow\">PCA</label><div class=\"sk-toggleable__content\"><pre>PCA()</pre></div></div></div><div class=\"sk-item\"><div class=\"sk-estimator sk-toggleable\"><input class=\"sk-toggleable__control sk-hidden--visually\" id=\"sk-estimator-id-10\" type=\"checkbox\" ><label for=\"sk-estimator-id-10\" class=\"sk-toggleable__label sk-toggleable__label-arrow\">ElasticNet</label><div class=\"sk-toggleable__content\"><pre>ElasticNet()</pre></div></div></div></div></div></div></div></div></div></div></div></div>"
      ],
      "text/plain": [
       "GridSearchCV(estimator=Pipeline(steps=[('scaler', StandardScaler()),\n",
       "                                       ('pca', PCA()),\n",
       "                                       ('elasticnet', ElasticNet())]),\n",
       "             param_grid={'elasticnet__alpha': [1e-05, 0.0001, 0.001, 0.01, 0.1,\n",
       "                                               0.0, 1.0, 10.0, 100.0],\n",
       "                         'elasticnet__l1_ratio': [0.1, 0.3, 0.5, 0.7, 0.8, 0.9,\n",
       "                                                  0.95, 0.99, 1],\n",
       "                         'pca__n_components': [1, 2, 3, 4, 5, 6, 7, 8, 9]})"
      ]
     },
     "execution_count": 206,
     "metadata": {},
     "output_type": "execute_result"
    }
   ],
   "source": [
    "elasticnet_cv = GridSearchCV(pipeline, parameters)\n",
    "elasticnet_cv.fit(X_train, y_train)"
   ]
  },
  {
   "cell_type": "code",
   "execution_count": 207,
   "id": "43634d70",
   "metadata": {
    "scrolled": true
   },
   "outputs": [
    {
     "name": "stdout",
     "output_type": "stream",
     "text": [
      "Best Number Of Components: 8\n",
      "ElasticNet(alpha=10.0, l1_ratio=0.95)\n"
     ]
    }
   ],
   "source": [
    "print('Best Number Of Components:', elasticnet_cv.best_estimator_.get_params()['pca__n_components'])\n",
    "print(elasticnet_cv.best_estimator_.get_params()['elasticnet'])"
   ]
  },
  {
   "cell_type": "code",
   "execution_count": 208,
   "id": "f3512a22",
   "metadata": {},
   "outputs": [
    {
     "data": {
      "text/plain": [
       "14382.032633872703"
      ]
     },
     "execution_count": 208,
     "metadata": {},
     "output_type": "execute_result"
    }
   ],
   "source": [
    "pred_en2 = elasticnet_cv.predict(X_val)\n",
    "rmse_en2 = mean_squared_error(y_val, pred_en2, squared=False)\n",
    "rmse_en2"
   ]
  },
  {
   "cell_type": "markdown",
   "id": "ce2b5190",
   "metadata": {},
   "source": [
    "## Test dataset\n",
    "\n",
    "Now apply the same data cleaning and feature engineering steps to the test set."
   ]
  },
  {
   "cell_type": "markdown",
   "id": "5ce45f5a",
   "metadata": {},
   "source": [
    "### Data cleaning"
   ]
  },
  {
   "cell_type": "code",
   "execution_count": 115,
   "id": "93d8794a",
   "metadata": {},
   "outputs": [
    {
     "data": {
      "text/html": [
       "<div>\n",
       "<style scoped>\n",
       "    .dataframe tbody tr th:only-of-type {\n",
       "        vertical-align: middle;\n",
       "    }\n",
       "\n",
       "    .dataframe tbody tr th {\n",
       "        vertical-align: top;\n",
       "    }\n",
       "\n",
       "    .dataframe thead th {\n",
       "        text-align: right;\n",
       "    }\n",
       "</style>\n",
       "<table border=\"1\" class=\"dataframe\">\n",
       "  <thead>\n",
       "    <tr style=\"text-align: right;\">\n",
       "      <th></th>\n",
       "      <th>Unnamed: 0.2</th>\n",
       "      <th>Unnamed: 0.1</th>\n",
       "      <th>Unnamed: 0</th>\n",
       "      <th>location_id</th>\n",
       "      <th>profile_id</th>\n",
       "      <th>sid</th>\n",
       "      <th>sid_profile</th>\n",
       "      <th>post_id</th>\n",
       "      <th>post_type</th>\n",
       "      <th>description</th>\n",
       "      <th>...</th>\n",
       "      <th>region</th>\n",
       "      <th>cd</th>\n",
       "      <th>phone</th>\n",
       "      <th>aj_exact_city_match</th>\n",
       "      <th>aj_exact_country_match</th>\n",
       "      <th>blurb</th>\n",
       "      <th>dir_city_name</th>\n",
       "      <th>dir_country_name</th>\n",
       "      <th>lat</th>\n",
       "      <th>lng</th>\n",
       "    </tr>\n",
       "  </thead>\n",
       "  <tbody>\n",
       "    <tr>\n",
       "      <th>0</th>\n",
       "      <td>0</td>\n",
       "      <td>6905</td>\n",
       "      <td>7115</td>\n",
       "      <td>16628794</td>\n",
       "      <td>433011845</td>\n",
       "      <td>37849814</td>\n",
       "      <td>3681636</td>\n",
       "      <td>BzGxKpjJR7O</td>\n",
       "      <td>1</td>\n",
       "      <td>When you pree her insta and she‚Äôs deleted th...</td>\n",
       "      <td>...</td>\n",
       "      <td>NaN</td>\n",
       "      <td>GB</td>\n",
       "      <td>01234 351115</td>\n",
       "      <td>False</td>\n",
       "      <td>False</td>\n",
       "      <td>Bedford International Athletic Stadium has acq...</td>\n",
       "      <td>Bedford</td>\n",
       "      <td>United Kingdom</td>\n",
       "      <td>0</td>\n",
       "      <td>52</td>\n",
       "    </tr>\n",
       "    <tr>\n",
       "      <th>1</th>\n",
       "      <td>1</td>\n",
       "      <td>22270</td>\n",
       "      <td>22924</td>\n",
       "      <td>13404453</td>\n",
       "      <td>28319341</td>\n",
       "      <td>38354690</td>\n",
       "      <td>3750553</td>\n",
       "      <td>By4UVohp7K3</td>\n",
       "      <td>1</td>\n",
       "      <td>Favourite yoga/ pilates/ fitness studios in Ba...</td>\n",
       "      <td>...</td>\n",
       "      <td>NaN</td>\n",
       "      <td>TH</td>\n",
       "      <td>NaN</td>\n",
       "      <td>True</td>\n",
       "      <td>False</td>\n",
       "      <td>NaN</td>\n",
       "      <td>Bangkok</td>\n",
       "      <td>Thailand</td>\n",
       "      <td>100</td>\n",
       "      <td>13</td>\n",
       "    </tr>\n",
       "    <tr>\n",
       "      <th>2</th>\n",
       "      <td>2</td>\n",
       "      <td>8449</td>\n",
       "      <td>8708</td>\n",
       "      <td>238342740</td>\n",
       "      <td>2280748136</td>\n",
       "      <td>14982216</td>\n",
       "      <td>3441757</td>\n",
       "      <td>BxFgEf7n7QB</td>\n",
       "      <td>1</td>\n",
       "      <td>Will never get over how beautiful this place i...</td>\n",
       "      <td>...</td>\n",
       "      <td>NaN</td>\n",
       "      <td>FO</td>\n",
       "      <td>NaN</td>\n",
       "      <td>False</td>\n",
       "      <td>False</td>\n",
       "      <td>NaN</td>\n",
       "      <td>NaN</td>\n",
       "      <td>NaN</td>\n",
       "      <td>-6</td>\n",
       "      <td>61</td>\n",
       "    </tr>\n",
       "    <tr>\n",
       "      <th>3</th>\n",
       "      <td>3</td>\n",
       "      <td>25778</td>\n",
       "      <td>26526</td>\n",
       "      <td>221023562</td>\n",
       "      <td>23814473</td>\n",
       "      <td>26521031</td>\n",
       "      <td>3803545</td>\n",
       "      <td>BmDEGOMAfZZ</td>\n",
       "      <td>1</td>\n",
       "      <td>Jag hann. Men det hade inte g√•tt utan min v√§...</td>\n",
       "      <td>...</td>\n",
       "      <td>NaN</td>\n",
       "      <td>SE</td>\n",
       "      <td>0647-353 00</td>\n",
       "      <td>False</td>\n",
       "      <td>False</td>\n",
       "      <td>V√•l√•dalen ligger d√§r √§ventyret b√∂rjar. H√...</td>\n",
       "      <td>NaN</td>\n",
       "      <td>NaN</td>\n",
       "      <td>12</td>\n",
       "      <td>63</td>\n",
       "    </tr>\n",
       "    <tr>\n",
       "      <th>4</th>\n",
       "      <td>4</td>\n",
       "      <td>26248</td>\n",
       "      <td>27010</td>\n",
       "      <td>710819371</td>\n",
       "      <td>303411945</td>\n",
       "      <td>36798813</td>\n",
       "      <td>3765067</td>\n",
       "      <td>ByUwqJMIJIv</td>\n",
       "      <td>1</td>\n",
       "      <td>–ö–æ–≥–¥–∞ —É —Ç–µ–±—è –æ–¥–Ω–∏ –ø–ª–∞–Ω—ã –Ω–...</td>\n",
       "      <td>...</td>\n",
       "      <td>NaN</td>\n",
       "      <td>RU</td>\n",
       "      <td>+7 495 937 90 40</td>\n",
       "      <td>False</td>\n",
       "      <td>False</td>\n",
       "      <td>NaN</td>\n",
       "      <td>NaN</td>\n",
       "      <td>NaN</td>\n",
       "      <td>37</td>\n",
       "      <td>55</td>\n",
       "    </tr>\n",
       "  </tbody>\n",
       "</table>\n",
       "<p>5 rows × 32 columns</p>\n",
       "</div>"
      ],
      "text/plain": [
       "   Unnamed: 0.2  Unnamed: 0.1  Unnamed: 0  location_id  profile_id       sid  \\\n",
       "0             0          6905        7115     16628794   433011845  37849814   \n",
       "1             1         22270       22924     13404453    28319341  38354690   \n",
       "2             2          8449        8708    238342740  2280748136  14982216   \n",
       "3             3         25778       26526    221023562    23814473  26521031   \n",
       "4             4         26248       27010    710819371   303411945  36798813   \n",
       "\n",
       "   sid_profile      post_id  post_type  \\\n",
       "0      3681636  BzGxKpjJR7O          1   \n",
       "1      3750553  By4UVohp7K3          1   \n",
       "2      3441757  BxFgEf7n7QB          1   \n",
       "3      3803545  BmDEGOMAfZZ          1   \n",
       "4      3765067  ByUwqJMIJIv          1   \n",
       "\n",
       "                                         description  ...  region  cd  \\\n",
       "0  When you pree her insta and she‚Äôs deleted th...  ...     NaN  GB   \n",
       "1  Favourite yoga/ pilates/ fitness studios in Ba...  ...     NaN  TH   \n",
       "2  Will never get over how beautiful this place i...  ...     NaN  FO   \n",
       "3  Jag hann. Men det hade inte g√•tt utan min v√§...  ...     NaN  SE   \n",
       "4  –ö–æ–≥–¥–∞ —É —Ç–µ–±—è –æ–¥–Ω–∏ –ø–ª–∞–Ω—ã –Ω–...  ...     NaN  RU   \n",
       "\n",
       "              phone aj_exact_city_match  aj_exact_country_match  \\\n",
       "0      01234 351115               False                   False   \n",
       "1               NaN                True                   False   \n",
       "2               NaN               False                   False   \n",
       "3       0647-353 00               False                   False   \n",
       "4  +7 495 937 90 40               False                   False   \n",
       "\n",
       "                                               blurb  dir_city_name  \\\n",
       "0  Bedford International Athletic Stadium has acq...        Bedford   \n",
       "1                                                NaN        Bangkok   \n",
       "2                                                NaN            NaN   \n",
       "3  V√•l√•dalen ligger d√§r √§ventyret b√∂rjar. H√...            NaN   \n",
       "4                                                NaN            NaN   \n",
       "\n",
       "  dir_country_name  lat lng  \n",
       "0   United Kingdom    0  52  \n",
       "1         Thailand  100  13  \n",
       "2              NaN   -6  61  \n",
       "3              NaN   12  63  \n",
       "4              NaN   37  55  \n",
       "\n",
       "[5 rows x 32 columns]"
      ]
     },
     "execution_count": 115,
     "metadata": {},
     "output_type": "execute_result"
    }
   ],
   "source": [
    "df_test.head()"
   ]
  },
  {
   "cell_type": "code",
   "execution_count": 116,
   "id": "276b4287",
   "metadata": {},
   "outputs": [
    {
     "data": {
      "text/plain": [
       "(5731, 32)"
      ]
     },
     "execution_count": 116,
     "metadata": {},
     "output_type": "execute_result"
    }
   ],
   "source": [
    "df_test.shape"
   ]
  },
  {
   "cell_type": "code",
   "execution_count": 117,
   "id": "39709bbd",
   "metadata": {},
   "outputs": [
    {
     "data": {
      "text/plain": [
       "Index(['Unnamed: 0.2', 'Unnamed: 0.1', 'Unnamed: 0', 'location_id',\n",
       "       'profile_id', 'sid', 'sid_profile', 'post_id', 'post_type',\n",
       "       'description', 'numbr_likes', 'number_comments', 'profile_name',\n",
       "       'firstname_lastname', 'following', 'followers', 'n_posts', 'url',\n",
       "       'is_business_account', 'name', 'zip', 'city', 'region', 'cd', 'phone',\n",
       "       'aj_exact_city_match', 'aj_exact_country_match', 'blurb',\n",
       "       'dir_city_name', 'dir_country_name', 'lat', 'lng'],\n",
       "      dtype='object')"
      ]
     },
     "execution_count": 117,
     "metadata": {},
     "output_type": "execute_result"
    }
   ],
   "source": [
    "df_test.columns"
   ]
  },
  {
   "cell_type": "code",
   "execution_count": 75,
   "id": "f041fd92",
   "metadata": {},
   "outputs": [
    {
     "data": {
      "text/html": [
       "<div>\n",
       "<style scoped>\n",
       "    .dataframe tbody tr th:only-of-type {\n",
       "        vertical-align: middle;\n",
       "    }\n",
       "\n",
       "    .dataframe tbody tr th {\n",
       "        vertical-align: top;\n",
       "    }\n",
       "\n",
       "    .dataframe thead th {\n",
       "        text-align: right;\n",
       "    }\n",
       "</style>\n",
       "<table border=\"1\" class=\"dataframe\">\n",
       "  <thead>\n",
       "    <tr style=\"text-align: right;\">\n",
       "      <th></th>\n",
       "      <th>location_id</th>\n",
       "      <th>profile_id</th>\n",
       "      <th>sid</th>\n",
       "      <th>sid_profile</th>\n",
       "      <th>post_id</th>\n",
       "      <th>post_type</th>\n",
       "      <th>description</th>\n",
       "      <th>numbr_likes</th>\n",
       "      <th>number_comments</th>\n",
       "      <th>profile_name</th>\n",
       "      <th>...</th>\n",
       "      <th>region</th>\n",
       "      <th>cd</th>\n",
       "      <th>phone</th>\n",
       "      <th>aj_exact_city_match</th>\n",
       "      <th>aj_exact_country_match</th>\n",
       "      <th>blurb</th>\n",
       "      <th>dir_city_name</th>\n",
       "      <th>dir_country_name</th>\n",
       "      <th>lat</th>\n",
       "      <th>lng</th>\n",
       "    </tr>\n",
       "  </thead>\n",
       "  <tbody>\n",
       "    <tr>\n",
       "      <th>0</th>\n",
       "      <td>16628794</td>\n",
       "      <td>433011845</td>\n",
       "      <td>37849814</td>\n",
       "      <td>3681636</td>\n",
       "      <td>BzGxKpjJR7O</td>\n",
       "      <td>1</td>\n",
       "      <td>When you pree her insta and she‚Äôs deleted th...</td>\n",
       "      <td>NaN</td>\n",
       "      <td>111</td>\n",
       "      <td>tj_athlete</td>\n",
       "      <td>...</td>\n",
       "      <td>NaN</td>\n",
       "      <td>GB</td>\n",
       "      <td>01234 351115</td>\n",
       "      <td>False</td>\n",
       "      <td>False</td>\n",
       "      <td>Bedford International Athletic Stadium has acq...</td>\n",
       "      <td>Bedford</td>\n",
       "      <td>United Kingdom</td>\n",
       "      <td>0</td>\n",
       "      <td>52</td>\n",
       "    </tr>\n",
       "    <tr>\n",
       "      <th>1</th>\n",
       "      <td>13404453</td>\n",
       "      <td>28319341</td>\n",
       "      <td>38354690</td>\n",
       "      <td>3750553</td>\n",
       "      <td>By4UVohp7K3</td>\n",
       "      <td>1</td>\n",
       "      <td>Favourite yoga/ pilates/ fitness studios in Ba...</td>\n",
       "      <td>NaN</td>\n",
       "      <td>29</td>\n",
       "      <td>madiross</td>\n",
       "      <td>...</td>\n",
       "      <td>NaN</td>\n",
       "      <td>TH</td>\n",
       "      <td>NaN</td>\n",
       "      <td>True</td>\n",
       "      <td>False</td>\n",
       "      <td>NaN</td>\n",
       "      <td>Bangkok</td>\n",
       "      <td>Thailand</td>\n",
       "      <td>100</td>\n",
       "      <td>13</td>\n",
       "    </tr>\n",
       "    <tr>\n",
       "      <th>2</th>\n",
       "      <td>238342740</td>\n",
       "      <td>2280748136</td>\n",
       "      <td>14982216</td>\n",
       "      <td>3441757</td>\n",
       "      <td>BxFgEf7n7QB</td>\n",
       "      <td>1</td>\n",
       "      <td>Will never get over how beautiful this place i...</td>\n",
       "      <td>NaN</td>\n",
       "      <td>67</td>\n",
       "      <td>droneofficial</td>\n",
       "      <td>...</td>\n",
       "      <td>NaN</td>\n",
       "      <td>FO</td>\n",
       "      <td>NaN</td>\n",
       "      <td>False</td>\n",
       "      <td>False</td>\n",
       "      <td>NaN</td>\n",
       "      <td>NaN</td>\n",
       "      <td>NaN</td>\n",
       "      <td>-6</td>\n",
       "      <td>61</td>\n",
       "    </tr>\n",
       "    <tr>\n",
       "      <th>3</th>\n",
       "      <td>221023562</td>\n",
       "      <td>23814473</td>\n",
       "      <td>26521031</td>\n",
       "      <td>3803545</td>\n",
       "      <td>BmDEGOMAfZZ</td>\n",
       "      <td>1</td>\n",
       "      <td>Jag hann. Men det hade inte g√•tt utan min v√§...</td>\n",
       "      <td>NaN</td>\n",
       "      <td>46</td>\n",
       "      <td>bingorimer</td>\n",
       "      <td>...</td>\n",
       "      <td>NaN</td>\n",
       "      <td>SE</td>\n",
       "      <td>0647-353 00</td>\n",
       "      <td>False</td>\n",
       "      <td>False</td>\n",
       "      <td>V√•l√•dalen ligger d√§r √§ventyret b√∂rjar. H√...</td>\n",
       "      <td>NaN</td>\n",
       "      <td>NaN</td>\n",
       "      <td>12</td>\n",
       "      <td>63</td>\n",
       "    </tr>\n",
       "    <tr>\n",
       "      <th>4</th>\n",
       "      <td>710819371</td>\n",
       "      <td>303411945</td>\n",
       "      <td>36798813</td>\n",
       "      <td>3765067</td>\n",
       "      <td>ByUwqJMIJIv</td>\n",
       "      <td>1</td>\n",
       "      <td>–ö–æ–≥–¥–∞ —É —Ç–µ–±—è –æ–¥–Ω–∏ –ø–ª–∞–Ω—ã –Ω–...</td>\n",
       "      <td>NaN</td>\n",
       "      <td>6</td>\n",
       "      <td>juliabodyul</td>\n",
       "      <td>...</td>\n",
       "      <td>NaN</td>\n",
       "      <td>RU</td>\n",
       "      <td>+7 495 937 90 40</td>\n",
       "      <td>False</td>\n",
       "      <td>False</td>\n",
       "      <td>NaN</td>\n",
       "      <td>NaN</td>\n",
       "      <td>NaN</td>\n",
       "      <td>37</td>\n",
       "      <td>55</td>\n",
       "    </tr>\n",
       "  </tbody>\n",
       "</table>\n",
       "<p>5 rows × 29 columns</p>\n",
       "</div>"
      ],
      "text/plain": [
       "   location_id  profile_id       sid  sid_profile      post_id  post_type  \\\n",
       "0     16628794   433011845  37849814      3681636  BzGxKpjJR7O          1   \n",
       "1     13404453    28319341  38354690      3750553  By4UVohp7K3          1   \n",
       "2    238342740  2280748136  14982216      3441757  BxFgEf7n7QB          1   \n",
       "3    221023562    23814473  26521031      3803545  BmDEGOMAfZZ          1   \n",
       "4    710819371   303411945  36798813      3765067  ByUwqJMIJIv          1   \n",
       "\n",
       "                                         description  numbr_likes  \\\n",
       "0  When you pree her insta and she‚Äôs deleted th...          NaN   \n",
       "1  Favourite yoga/ pilates/ fitness studios in Ba...          NaN   \n",
       "2  Will never get over how beautiful this place i...          NaN   \n",
       "3  Jag hann. Men det hade inte g√•tt utan min v√§...          NaN   \n",
       "4  –ö–æ–≥–¥–∞ —É —Ç–µ–±—è –æ–¥–Ω–∏ –ø–ª–∞–Ω—ã –Ω–...          NaN   \n",
       "\n",
       "   number_comments   profile_name  ... region  cd             phone  \\\n",
       "0              111     tj_athlete  ...    NaN  GB      01234 351115   \n",
       "1               29       madiross  ...    NaN  TH               NaN   \n",
       "2               67  droneofficial  ...    NaN  FO               NaN   \n",
       "3               46     bingorimer  ...    NaN  SE       0647-353 00   \n",
       "4                6    juliabodyul  ...    NaN  RU  +7 495 937 90 40   \n",
       "\n",
       "   aj_exact_city_match aj_exact_country_match  \\\n",
       "0                False                  False   \n",
       "1                 True                  False   \n",
       "2                False                  False   \n",
       "3                False                  False   \n",
       "4                False                  False   \n",
       "\n",
       "                                               blurb dir_city_name  \\\n",
       "0  Bedford International Athletic Stadium has acq...       Bedford   \n",
       "1                                                NaN       Bangkok   \n",
       "2                                                NaN           NaN   \n",
       "3  V√•l√•dalen ligger d√§r √§ventyret b√∂rjar. H√...           NaN   \n",
       "4                                                NaN           NaN   \n",
       "\n",
       "  dir_country_name  lat lng  \n",
       "0   United Kingdom    0  52  \n",
       "1         Thailand  100  13  \n",
       "2              NaN   -6  61  \n",
       "3              NaN   12  63  \n",
       "4              NaN   37  55  \n",
       "\n",
       "[5 rows x 29 columns]"
      ]
     },
     "execution_count": 75,
     "metadata": {},
     "output_type": "execute_result"
    }
   ],
   "source": [
    "# remove first three unnamed columns\n",
    "df_test = df_test[[col for col in df_test.columns[3:]]]\n",
    "df_test.head()"
   ]
  },
  {
   "cell_type": "code",
   "execution_count": 124,
   "id": "fd8ddebd",
   "metadata": {},
   "outputs": [
    {
     "data": {
      "text/plain": [
       "5720"
      ]
     },
     "execution_count": 124,
     "metadata": {},
     "output_type": "execute_result"
    }
   ],
   "source": [
    "df_test.sid.nunique()"
   ]
  },
  {
   "cell_type": "code",
   "execution_count": 76,
   "id": "0bf87402",
   "metadata": {},
   "outputs": [],
   "source": [
    "df_test.rename(columns = {'lat':'lng', 'lng':'lat'}, inplace = True)"
   ]
  },
  {
   "cell_type": "code",
   "execution_count": 77,
   "id": "c17a04cb",
   "metadata": {},
   "outputs": [
    {
     "data": {
      "text/html": [
       "<div>\n",
       "<style scoped>\n",
       "    .dataframe tbody tr th:only-of-type {\n",
       "        vertical-align: middle;\n",
       "    }\n",
       "\n",
       "    .dataframe tbody tr th {\n",
       "        vertical-align: top;\n",
       "    }\n",
       "\n",
       "    .dataframe thead th {\n",
       "        text-align: right;\n",
       "    }\n",
       "</style>\n",
       "<table border=\"1\" class=\"dataframe\">\n",
       "  <thead>\n",
       "    <tr style=\"text-align: right;\">\n",
       "      <th></th>\n",
       "      <th>post_type</th>\n",
       "      <th>number_comments</th>\n",
       "      <th>following</th>\n",
       "      <th>followers</th>\n",
       "      <th>n_posts</th>\n",
       "      <th>is_business_account</th>\n",
       "      <th>lng</th>\n",
       "      <th>lat</th>\n",
       "      <th>numbr_likes</th>\n",
       "    </tr>\n",
       "  </thead>\n",
       "  <tbody>\n",
       "    <tr>\n",
       "      <th>0</th>\n",
       "      <td>1</td>\n",
       "      <td>111</td>\n",
       "      <td>805</td>\n",
       "      <td>17491</td>\n",
       "      <td>257.0</td>\n",
       "      <td>False</td>\n",
       "      <td>0</td>\n",
       "      <td>52</td>\n",
       "      <td>NaN</td>\n",
       "    </tr>\n",
       "    <tr>\n",
       "      <th>1</th>\n",
       "      <td>1</td>\n",
       "      <td>29</td>\n",
       "      <td>583</td>\n",
       "      <td>357246</td>\n",
       "      <td>1339.0</td>\n",
       "      <td>True</td>\n",
       "      <td>100</td>\n",
       "      <td>13</td>\n",
       "      <td>NaN</td>\n",
       "    </tr>\n",
       "    <tr>\n",
       "      <th>2</th>\n",
       "      <td>1</td>\n",
       "      <td>67</td>\n",
       "      <td>1258</td>\n",
       "      <td>128176</td>\n",
       "      <td>1913.0</td>\n",
       "      <td>True</td>\n",
       "      <td>-6</td>\n",
       "      <td>61</td>\n",
       "      <td>NaN</td>\n",
       "    </tr>\n",
       "    <tr>\n",
       "      <th>3</th>\n",
       "      <td>1</td>\n",
       "      <td>46</td>\n",
       "      <td>2329</td>\n",
       "      <td>172429</td>\n",
       "      <td>8090.0</td>\n",
       "      <td>True</td>\n",
       "      <td>12</td>\n",
       "      <td>63</td>\n",
       "      <td>NaN</td>\n",
       "    </tr>\n",
       "    <tr>\n",
       "      <th>4</th>\n",
       "      <td>1</td>\n",
       "      <td>6</td>\n",
       "      <td>244</td>\n",
       "      <td>10253</td>\n",
       "      <td>511.0</td>\n",
       "      <td>False</td>\n",
       "      <td>37</td>\n",
       "      <td>55</td>\n",
       "      <td>NaN</td>\n",
       "    </tr>\n",
       "  </tbody>\n",
       "</table>\n",
       "</div>"
      ],
      "text/plain": [
       "   post_type  number_comments  following  followers  n_posts  \\\n",
       "0          1              111        805      17491    257.0   \n",
       "1          1               29        583     357246   1339.0   \n",
       "2          1               67       1258     128176   1913.0   \n",
       "3          1               46       2329     172429   8090.0   \n",
       "4          1                6        244      10253    511.0   \n",
       "\n",
       "   is_business_account  lng  lat  numbr_likes  \n",
       "0                False    0   52          NaN  \n",
       "1                 True  100   13          NaN  \n",
       "2                 True   -6   61          NaN  \n",
       "3                 True   12   63          NaN  \n",
       "4                False   37   55          NaN  "
      ]
     },
     "execution_count": 77,
     "metadata": {},
     "output_type": "execute_result"
    }
   ],
   "source": [
    "# keep relevant variables and use sid as the index column\n",
    "predictors = ['post_type', 'number_comments', 'following', 'followers', 'n_posts', 'is_business_account', 'lng', 'lat', 'numbr_likes']\n",
    "df_test = df_test[[col for col in predictors]]\n",
    "df_test.head()"
   ]
  },
  {
   "cell_type": "code",
   "execution_count": 78,
   "id": "045883e9",
   "metadata": {},
   "outputs": [
    {
     "name": "stdout",
     "output_type": "stream",
     "text": [
      "<class 'pandas.core.frame.DataFrame'>\n",
      "RangeIndex: 5731 entries, 0 to 5730\n",
      "Data columns (total 9 columns):\n",
      " #   Column               Non-Null Count  Dtype  \n",
      "---  ------               --------------  -----  \n",
      " 0   post_type            5731 non-null   int64  \n",
      " 1   number_comments      5731 non-null   int64  \n",
      " 2   following            5731 non-null   int64  \n",
      " 3   followers            5731 non-null   int64  \n",
      " 4   n_posts              5731 non-null   float64\n",
      " 5   is_business_account  5731 non-null   bool   \n",
      " 6   lng                  5731 non-null   int64  \n",
      " 7   lat                  5731 non-null   int64  \n",
      " 8   numbr_likes          0 non-null      float64\n",
      "dtypes: bool(1), float64(2), int64(6)\n",
      "memory usage: 363.9 KB\n"
     ]
    }
   ],
   "source": [
    "df_test.info()"
   ]
  },
  {
   "cell_type": "code",
   "execution_count": 103,
   "id": "58209807",
   "metadata": {},
   "outputs": [
    {
     "name": "stdout",
     "output_type": "stream",
     "text": [
      "<class 'pandas.core.frame.DataFrame'>\n",
      "RangeIndex: 5731 entries, 0 to 5730\n",
      "Data columns (total 12 columns):\n",
      " #   Column               Non-Null Count  Dtype  \n",
      "---  ------               --------------  -----  \n",
      " 0   number_comments      5731 non-null   int64  \n",
      " 1   following            5731 non-null   int64  \n",
      " 2   followers            5731 non-null   int64  \n",
      " 3   n_posts              5731 non-null   float64\n",
      " 4   is_business_account  5731 non-null   int64  \n",
      " 5   lng                  5731 non-null   int64  \n",
      " 6   lat                  5731 non-null   int64  \n",
      " 7   numbr_likes          0 non-null      float64\n",
      " 8   is_photo             5731 non-null   float64\n",
      " 9   is_video             5731 non-null   float64\n",
      " 10  log_followers        5731 non-null   float64\n",
      " 11  log_numbr_likes      0 non-null      float64\n",
      "dtypes: float64(6), int64(6)\n",
      "memory usage: 537.4 KB\n"
     ]
    }
   ],
   "source": [
    "# convert is_business_account column to integers\n",
    "df_test['is_business_account'] = df_test['is_business_account'].replace({True: 1, False: 0})\n",
    "\n",
    "df_test.info()"
   ]
  },
  {
   "cell_type": "markdown",
   "id": "d90764ee",
   "metadata": {},
   "source": [
    "### Feature engineering"
   ]
  },
  {
   "cell_type": "code",
   "execution_count": 79,
   "id": "fe3fa3c0",
   "metadata": {},
   "outputs": [],
   "source": [
    "# one-hot encode post type column\n",
    "ohe = OneHotEncoder()\n",
    "df_test[['is_photo', 'is_video']] = ohe.fit_transform(df_test[['post_type']]).toarray()"
   ]
  },
  {
   "cell_type": "code",
   "execution_count": 80,
   "id": "b862cb53",
   "metadata": {},
   "outputs": [
    {
     "data": {
      "text/html": [
       "<div>\n",
       "<style scoped>\n",
       "    .dataframe tbody tr th:only-of-type {\n",
       "        vertical-align: middle;\n",
       "    }\n",
       "\n",
       "    .dataframe tbody tr th {\n",
       "        vertical-align: top;\n",
       "    }\n",
       "\n",
       "    .dataframe thead th {\n",
       "        text-align: right;\n",
       "    }\n",
       "</style>\n",
       "<table border=\"1\" class=\"dataframe\">\n",
       "  <thead>\n",
       "    <tr style=\"text-align: right;\">\n",
       "      <th></th>\n",
       "      <th>number_comments</th>\n",
       "      <th>following</th>\n",
       "      <th>followers</th>\n",
       "      <th>n_posts</th>\n",
       "      <th>is_business_account</th>\n",
       "      <th>lng</th>\n",
       "      <th>lat</th>\n",
       "      <th>numbr_likes</th>\n",
       "      <th>is_photo</th>\n",
       "      <th>is_video</th>\n",
       "    </tr>\n",
       "  </thead>\n",
       "  <tbody>\n",
       "    <tr>\n",
       "      <th>0</th>\n",
       "      <td>111</td>\n",
       "      <td>805</td>\n",
       "      <td>17491</td>\n",
       "      <td>257.0</td>\n",
       "      <td>False</td>\n",
       "      <td>0</td>\n",
       "      <td>52</td>\n",
       "      <td>NaN</td>\n",
       "      <td>1.0</td>\n",
       "      <td>0.0</td>\n",
       "    </tr>\n",
       "    <tr>\n",
       "      <th>1</th>\n",
       "      <td>29</td>\n",
       "      <td>583</td>\n",
       "      <td>357246</td>\n",
       "      <td>1339.0</td>\n",
       "      <td>True</td>\n",
       "      <td>100</td>\n",
       "      <td>13</td>\n",
       "      <td>NaN</td>\n",
       "      <td>1.0</td>\n",
       "      <td>0.0</td>\n",
       "    </tr>\n",
       "    <tr>\n",
       "      <th>2</th>\n",
       "      <td>67</td>\n",
       "      <td>1258</td>\n",
       "      <td>128176</td>\n",
       "      <td>1913.0</td>\n",
       "      <td>True</td>\n",
       "      <td>-6</td>\n",
       "      <td>61</td>\n",
       "      <td>NaN</td>\n",
       "      <td>1.0</td>\n",
       "      <td>0.0</td>\n",
       "    </tr>\n",
       "    <tr>\n",
       "      <th>3</th>\n",
       "      <td>46</td>\n",
       "      <td>2329</td>\n",
       "      <td>172429</td>\n",
       "      <td>8090.0</td>\n",
       "      <td>True</td>\n",
       "      <td>12</td>\n",
       "      <td>63</td>\n",
       "      <td>NaN</td>\n",
       "      <td>1.0</td>\n",
       "      <td>0.0</td>\n",
       "    </tr>\n",
       "    <tr>\n",
       "      <th>4</th>\n",
       "      <td>6</td>\n",
       "      <td>244</td>\n",
       "      <td>10253</td>\n",
       "      <td>511.0</td>\n",
       "      <td>False</td>\n",
       "      <td>37</td>\n",
       "      <td>55</td>\n",
       "      <td>NaN</td>\n",
       "      <td>1.0</td>\n",
       "      <td>0.0</td>\n",
       "    </tr>\n",
       "  </tbody>\n",
       "</table>\n",
       "</div>"
      ],
      "text/plain": [
       "   number_comments  following  followers  n_posts  is_business_account  lng  \\\n",
       "0              111        805      17491    257.0                False    0   \n",
       "1               29        583     357246   1339.0                 True  100   \n",
       "2               67       1258     128176   1913.0                 True   -6   \n",
       "3               46       2329     172429   8090.0                 True   12   \n",
       "4                6        244      10253    511.0                False   37   \n",
       "\n",
       "   lat  numbr_likes  is_photo  is_video  \n",
       "0   52          NaN       1.0       0.0  \n",
       "1   13          NaN       1.0       0.0  \n",
       "2   61          NaN       1.0       0.0  \n",
       "3   63          NaN       1.0       0.0  \n",
       "4   55          NaN       1.0       0.0  "
      ]
     },
     "execution_count": 80,
     "metadata": {},
     "output_type": "execute_result"
    }
   ],
   "source": [
    "# drop post type column\n",
    "df_test = df_test[[i for i in df_test.columns if i != 'post_type']]\n",
    "df_test.head()"
   ]
  },
  {
   "cell_type": "code",
   "execution_count": 81,
   "id": "e8c3825a",
   "metadata": {},
   "outputs": [
    {
     "name": "stdout",
     "output_type": "stream",
     "text": [
      "X test shape:  (5731, 9)\n"
     ]
    }
   ],
   "source": [
    "# get predictors\n",
    "X_test = df_test[[i for i in df_test.columns if i != 'numbr_likes']]\n",
    "\n",
    "print('X test shape: ', X_test.shape)"
   ]
  },
  {
   "cell_type": "code",
   "execution_count": 82,
   "id": "0d4194cc",
   "metadata": {},
   "outputs": [],
   "source": [
    "# add log of followers column\n",
    "df_test['log_followers'] = np.log(df_test['followers'])"
   ]
  },
  {
   "cell_type": "markdown",
   "id": "e3351e68",
   "metadata": {},
   "source": [
    "### Prediction"
   ]
  },
  {
   "cell_type": "code",
   "execution_count": 183,
   "id": "643517a8",
   "metadata": {},
   "outputs": [
    {
     "data": {
      "text/html": [
       "<div>\n",
       "<style scoped>\n",
       "    .dataframe tbody tr th:only-of-type {\n",
       "        vertical-align: middle;\n",
       "    }\n",
       "\n",
       "    .dataframe tbody tr th {\n",
       "        vertical-align: top;\n",
       "    }\n",
       "\n",
       "    .dataframe thead th {\n",
       "        text-align: right;\n",
       "    }\n",
       "</style>\n",
       "<table border=\"1\" class=\"dataframe\">\n",
       "  <thead>\n",
       "    <tr style=\"text-align: right;\">\n",
       "      <th></th>\n",
       "      <th>0</th>\n",
       "      <th>1</th>\n",
       "      <th>2</th>\n",
       "      <th>3</th>\n",
       "      <th>4</th>\n",
       "      <th>5</th>\n",
       "      <th>6</th>\n",
       "      <th>7</th>\n",
       "      <th>8</th>\n",
       "    </tr>\n",
       "  </thead>\n",
       "  <tbody>\n",
       "    <tr>\n",
       "      <th>mean</th>\n",
       "      <td>0.0000</td>\n",
       "      <td>-0.0000</td>\n",
       "      <td>-0.0000</td>\n",
       "      <td>0.0000</td>\n",
       "      <td>-0.0000</td>\n",
       "      <td>-0.0000</td>\n",
       "      <td>-0.0000</td>\n",
       "      <td>0.0000</td>\n",
       "      <td>-0.0000</td>\n",
       "    </tr>\n",
       "    <tr>\n",
       "      <th>std</th>\n",
       "      <td>1.0001</td>\n",
       "      <td>1.0001</td>\n",
       "      <td>1.0001</td>\n",
       "      <td>1.0001</td>\n",
       "      <td>1.0001</td>\n",
       "      <td>1.0001</td>\n",
       "      <td>1.0001</td>\n",
       "      <td>1.0001</td>\n",
       "      <td>1.0001</td>\n",
       "    </tr>\n",
       "  </tbody>\n",
       "</table>\n",
       "</div>"
      ],
      "text/plain": [
       "          0       1       2      3       4       5       6      7       8\n",
       "mean 0.0000 -0.0000 -0.0000 0.0000 -0.0000 -0.0000 -0.0000 0.0000 -0.0000\n",
       "std  1.0001  1.0001  1.0001 1.0001  1.0001  1.0001  1.0001 1.0001  1.0001"
      ]
     },
     "execution_count": 183,
     "metadata": {},
     "output_type": "execute_result"
    }
   ],
   "source": [
    "# scale predictors\n",
    "scaler = StandardScaler()\n",
    "X_test_std = pd.DataFrame(scaler.fit_transform(X_test))\n",
    "\n",
    "pd.options.display.float_format = '{:,.4f}'.format\n",
    "X_test_std.describe().loc[['mean', 'std']]"
   ]
  },
  {
   "cell_type": "markdown",
   "id": "a78c5d52",
   "metadata": {},
   "source": [
    "Model 1: Elastic Net model"
   ]
  },
  {
   "cell_type": "code",
   "execution_count": 184,
   "id": "697af92c",
   "metadata": {},
   "outputs": [
    {
     "data": {
      "text/plain": [
       "array([ 3997.68571922,  5060.110554  ,  3489.90363714, ...,\n",
       "        2371.0158804 ,  2402.64467697, 26500.89550695])"
      ]
     },
     "execution_count": 184,
     "metadata": {},
     "output_type": "execute_result"
    }
   ],
   "source": [
    "# predictions from Elastic Net model\n",
    "y_pred_en = elastic_net_model.predict(X_test_std)\n",
    "y_pred_en"
   ]
  },
  {
   "cell_type": "code",
   "execution_count": 177,
   "id": "569c519d",
   "metadata": {},
   "outputs": [],
   "source": [
    "submission = pd.DataFrame({'id': range(df_test.shape[0]),'numbr_likes': y_pred_en})\n",
    "submission.to_csv('prediction_en_1.csv', index=False)"
   ]
  },
  {
   "cell_type": "markdown",
   "id": "b8bff592",
   "metadata": {},
   "source": [
    "Model 2: model with full features"
   ]
  },
  {
   "cell_type": "code",
   "execution_count": 185,
   "id": "9aefdd9b",
   "metadata": {},
   "outputs": [
    {
     "data": {
      "text/plain": [
       "array([ 3749.81763733,  5544.56883314,  2998.1898795 , ...,\n",
       "        2029.47792354,  2077.18508919, 39668.83000963])"
      ]
     },
     "execution_count": 185,
     "metadata": {},
     "output_type": "execute_result"
    }
   ],
   "source": [
    "# prediction from linear regression model with full features\n",
    "y_pred_lr = lr.predict(X_test)\n",
    "y_pred_lr"
   ]
  },
  {
   "cell_type": "code",
   "execution_count": 179,
   "id": "12a2ea99",
   "metadata": {},
   "outputs": [],
   "source": [
    "submission = pd.DataFrame({'id': range(df_test.shape[0]),'numbr_likes': y_pred_lr})\n",
    "submission.to_csv('prediction_lr_1.csv', index=False)"
   ]
  },
  {
   "cell_type": "markdown",
   "id": "60b0feb5",
   "metadata": {},
   "source": [
    "Model 3: model with stepwise selection"
   ]
  },
  {
   "cell_type": "code",
   "execution_count": 154,
   "id": "37a0cf3f",
   "metadata": {},
   "outputs": [],
   "source": [
    "X_test_selected = X_test[['number_comments', 'followers', 'n_posts', 'is_business_account', 'is_photo', 'is_video']]"
   ]
  },
  {
   "cell_type": "code",
   "execution_count": 155,
   "id": "b0c7f611",
   "metadata": {},
   "outputs": [
    {
     "data": {
      "text/plain": [
       "array([ 3758.35593243,  5477.46681705,  3019.47558347, ...,\n",
       "        2026.3055432 ,  2072.36179582, 39686.48761341])"
      ]
     },
     "execution_count": 155,
     "metadata": {},
     "output_type": "execute_result"
    }
   ],
   "source": [
    "# predictions from linear regression model with stepwise selection\n",
    "y_pred_lr_selected = lr_selected.predict(X_test_selected)\n",
    "y_pred_lr_selected"
   ]
  },
  {
   "cell_type": "code",
   "execution_count": 180,
   "id": "436afba5",
   "metadata": {},
   "outputs": [],
   "source": [
    "submission = pd.DataFrame({'id': range(df_test.shape[0]),'numbr_likes': y_pred_lr_selected})\n",
    "submission.to_csv('prediction_lr_2.csv', index=False)"
   ]
  },
  {
   "cell_type": "markdown",
   "id": "0fc3398a",
   "metadata": {},
   "source": [
    "Model 4: model with predictors most correlated with target variable "
   ]
  },
  {
   "cell_type": "code",
   "execution_count": 192,
   "id": "b4f6db52",
   "metadata": {},
   "outputs": [],
   "source": [
    "X_test_selected2 = X_test[['number_comments', 'followers', 'n_posts']]"
   ]
  },
  {
   "cell_type": "code",
   "execution_count": 193,
   "id": "1f98d045",
   "metadata": {},
   "outputs": [
    {
     "data": {
      "text/plain": [
       "array([ 3194.91956009,  5921.97596583,  3454.31305529, ...,\n",
       "        2472.58453406,  2520.49302154, 40142.14428562])"
      ]
     },
     "execution_count": 193,
     "metadata": {},
     "output_type": "execute_result"
    }
   ],
   "source": [
    "# predictions from linear regression model with predictors most correlated with target variable \n",
    "y_pred_lr_selected2 = lr_selected2.predict(X_test_selected2)\n",
    "y_pred_lr_selected2"
   ]
  },
  {
   "cell_type": "code",
   "execution_count": 194,
   "id": "38eb3046",
   "metadata": {},
   "outputs": [],
   "source": [
    "submission = pd.DataFrame({'id': range(df_test.shape[0]),'numbr_likes': y_pred_lr_selected2})\n",
    "submission.to_csv('prediction_lr_3.csv', index=False)"
   ]
  },
  {
   "cell_type": "markdown",
   "id": "c4b30fa9",
   "metadata": {},
   "source": [
    "Model 5: model with PCR-Elastic Net pipeline"
   ]
  },
  {
   "cell_type": "code",
   "execution_count": 209,
   "id": "e3b5f394",
   "metadata": {},
   "outputs": [
    {
     "data": {
      "text/plain": [
       "array([ 3698.63077197,  5279.17355607,  3434.93022925, ...,\n",
       "        2516.8104719 ,  2570.61504382, 28184.68114292])"
      ]
     },
     "execution_count": 209,
     "metadata": {},
     "output_type": "execute_result"
    }
   ],
   "source": [
    "# predictions from PCR-Elastic Net pipeline model\n",
    "y_pred_en2 = elasticnet_cv.predict(X_test)\n",
    "y_pred_en2"
   ]
  },
  {
   "cell_type": "code",
   "execution_count": 210,
   "id": "aab672a1",
   "metadata": {},
   "outputs": [],
   "source": [
    "submission = pd.DataFrame({'id': range(df_test.shape[0]),'numbr_likes': y_pred_en2})\n",
    "submission.to_csv('prediction_en_2.csv', index=False)"
   ]
  },
  {
   "cell_type": "markdown",
   "id": "6383481b",
   "metadata": {},
   "source": [
    "Model 6: model with power law transformation"
   ]
  },
  {
   "cell_type": "code",
   "execution_count": 85,
   "id": "2f17b867",
   "metadata": {},
   "outputs": [],
   "source": [
    "X_test_log = np.array(df_test['log_followers']).reshape((-1,1))"
   ]
  },
  {
   "cell_type": "code",
   "execution_count": 89,
   "id": "68d10b57",
   "metadata": {},
   "outputs": [
    {
     "data": {
      "text/plain": [
       "array([ 6.74364926,  8.76099294,  8.07554458, ...,  5.55409233,\n",
       "        5.19884452, 10.34749462])"
      ]
     },
     "execution_count": 89,
     "metadata": {},
     "output_type": "execute_result"
    }
   ],
   "source": [
    "# predictions from model with power law\n",
    "y_pred_log = lr_log.predict(X_test_log)\n",
    "y_pred_log"
   ]
  },
  {
   "cell_type": "code",
   "execution_count": 91,
   "id": "667ab471",
   "metadata": {},
   "outputs": [],
   "source": [
    "# transform log of predictions back to actual values\n",
    "y_pred_log = np.exp(y_pred_log)"
   ]
  },
  {
   "cell_type": "code",
   "execution_count": 92,
   "id": "711c8ee6",
   "metadata": {},
   "outputs": [],
   "source": [
    "submission = pd.DataFrame({'id': range(df_test.shape[0]),'numbr_likes': y_pred_log})\n",
    "submission.to_csv('prediction_log.csv', index=False)"
   ]
  }
 ],
 "metadata": {
  "kernelspec": {
   "display_name": "Python 3 (ipykernel)",
   "language": "python",
   "name": "python3"
  },
  "language_info": {
   "codemirror_mode": {
    "name": "ipython",
    "version": 3
   },
   "file_extension": ".py",
   "mimetype": "text/x-python",
   "name": "python",
   "nbconvert_exporter": "python",
   "pygments_lexer": "ipython3",
   "version": "3.8.10"
  }
 },
 "nbformat": 4,
 "nbformat_minor": 5
}
